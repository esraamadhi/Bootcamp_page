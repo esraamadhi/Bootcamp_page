{
 "cells": [
  {
   "cell_type": "code",
   "execution_count": 4,
   "id": "4fc2d1a3-0a86-403a-8094-768809395391",
   "metadata": {},
   "outputs": [],
   "source": [
    "import gspread"
   ]
  },
  {
   "cell_type": "code",
   "execution_count": 2,
   "id": "090cdb79-6978-47d3-86c2-57de879849a6",
   "metadata": {},
   "outputs": [],
   "source": [
    "s = [\"Step 1: Define Problem Statement\",\n",
    "\"Step 2: Data Collection\",\n",
    "\"Step 3: Data Quality Check and Remediation\",\n",
    "\"Step 4: Exploratory Data Analysis\",\n",
    "\"Step 5: Machine learning Modeling\",\n",
    "\"Step 6: Evaluation\",\n",
    "\"Step 7: Data Communication\",\n",
    "\"Step 8: Deploy model\"]\n",
    "s.sort()"
   ]
  },
  {
   "cell_type": "code",
   "execution_count": 3,
   "id": "6e5a7722-45a5-4c65-a13e-a75b3c6dc6ae",
   "metadata": {},
   "outputs": [
    {
     "data": {
      "text/plain": [
       "['Step 1: Define Problem Statement',\n",
       " 'Step 2: Data Collection',\n",
       " 'Step 3: Data Quality Check and Remediation',\n",
       " 'Step 4: Exploratory Data Analysis',\n",
       " 'Step 5: Machine learning Modeling',\n",
       " 'Step 6: Evaluation',\n",
       " 'Step 7: Data Communication',\n",
       " 'Step 8: Deploy model']"
      ]
     },
     "execution_count": 3,
     "metadata": {},
     "output_type": "execute_result"
    }
   ],
   "source": [
    "s"
   ]
  },
  {
   "cell_type": "code",
   "execution_count": 5,
   "id": "2a20b079-82ed-4d3e-b82a-bcdac5db088b",
   "metadata": {},
   "outputs": [
    {
     "ename": "FileNotFoundError",
     "evalue": "[Errno 2] No such file or directory: 'data-science-bootcamp-roadmap-c697bad66df1.json'",
     "output_type": "error",
     "traceback": [
      "\u001b[0;31m---------------------------------------------------------------------------\u001b[0m",
      "\u001b[0;31mFileNotFoundError\u001b[0m                         Traceback (most recent call last)",
      "Cell \u001b[0;32mIn[5], line 9\u001b[0m\n\u001b[1;32m      6\u001b[0m scope \u001b[38;5;241m=\u001b[39m [\u001b[38;5;124m'\u001b[39m\u001b[38;5;124mhttps://spreadsheets.google.com/feeds\u001b[39m\u001b[38;5;124m'\u001b[39m,\u001b[38;5;124m'\u001b[39m\u001b[38;5;124mhttps://www.googleapis.com/auth/drive\u001b[39m\u001b[38;5;124m'\u001b[39m]\n\u001b[1;32m      8\u001b[0m \u001b[38;5;66;03m# Add credentials to the account\u001b[39;00m\n\u001b[0;32m----> 9\u001b[0m creds \u001b[38;5;241m=\u001b[39m \u001b[43mServiceAccountCredentials\u001b[49m\u001b[38;5;241;43m.\u001b[39;49m\u001b[43mfrom_json_keyfile_name\u001b[49m\u001b[43m(\u001b[49m\u001b[38;5;124;43m'\u001b[39;49m\u001b[38;5;124;43mdata-science-bootcamp-roadmap-c697bad66df1.json\u001b[39;49m\u001b[38;5;124;43m'\u001b[39;49m\u001b[43m,\u001b[49m\u001b[43m \u001b[49m\u001b[43mscope\u001b[49m\u001b[43m)\u001b[49m\n\u001b[1;32m     11\u001b[0m \u001b[38;5;66;03m# Authorize the clientsheet \u001b[39;00m\n\u001b[1;32m     12\u001b[0m client \u001b[38;5;241m=\u001b[39m gspread\u001b[38;5;241m.\u001b[39mauthorize(creds)\n",
      "File \u001b[0;32m~/Documents/DS_course/ds_env/lib/python3.11/site-packages/oauth2client/service_account.py:219\u001b[0m, in \u001b[0;36mServiceAccountCredentials.from_json_keyfile_name\u001b[0;34m(cls, filename, scopes, token_uri, revoke_uri)\u001b[0m\n\u001b[1;32m    193\u001b[0m \u001b[38;5;129m@classmethod\u001b[39m\n\u001b[1;32m    194\u001b[0m \u001b[38;5;28;01mdef\u001b[39;00m \u001b[38;5;21mfrom_json_keyfile_name\u001b[39m(\u001b[38;5;28mcls\u001b[39m, filename, scopes\u001b[38;5;241m=\u001b[39m\u001b[38;5;124m'\u001b[39m\u001b[38;5;124m'\u001b[39m,\n\u001b[1;32m    195\u001b[0m                            token_uri\u001b[38;5;241m=\u001b[39m\u001b[38;5;28;01mNone\u001b[39;00m, revoke_uri\u001b[38;5;241m=\u001b[39m\u001b[38;5;28;01mNone\u001b[39;00m):\n\u001b[1;32m    197\u001b[0m \u001b[38;5;250m    \u001b[39m\u001b[38;5;124;03m\"\"\"Factory constructor from JSON keyfile by name.\u001b[39;00m\n\u001b[1;32m    198\u001b[0m \n\u001b[1;32m    199\u001b[0m \u001b[38;5;124;03m    Args:\u001b[39;00m\n\u001b[0;32m   (...)\u001b[0m\n\u001b[1;32m    217\u001b[0m \u001b[38;5;124;03m            the keyfile.\u001b[39;00m\n\u001b[1;32m    218\u001b[0m \u001b[38;5;124;03m    \"\"\"\u001b[39;00m\n\u001b[0;32m--> 219\u001b[0m     \u001b[38;5;28;01mwith\u001b[39;00m \u001b[38;5;28;43mopen\u001b[39;49m\u001b[43m(\u001b[49m\u001b[43mfilename\u001b[49m\u001b[43m,\u001b[49m\u001b[43m \u001b[49m\u001b[38;5;124;43m'\u001b[39;49m\u001b[38;5;124;43mr\u001b[39;49m\u001b[38;5;124;43m'\u001b[39;49m\u001b[43m)\u001b[49m \u001b[38;5;28;01mas\u001b[39;00m file_obj:\n\u001b[1;32m    220\u001b[0m         client_credentials \u001b[38;5;241m=\u001b[39m json\u001b[38;5;241m.\u001b[39mload(file_obj)\n\u001b[1;32m    221\u001b[0m     \u001b[38;5;28;01mreturn\u001b[39;00m \u001b[38;5;28mcls\u001b[39m\u001b[38;5;241m.\u001b[39m_from_parsed_json_keyfile(client_credentials, scopes,\n\u001b[1;32m    222\u001b[0m                                          token_uri\u001b[38;5;241m=\u001b[39mtoken_uri,\n\u001b[1;32m    223\u001b[0m                                          revoke_uri\u001b[38;5;241m=\u001b[39mrevoke_uri)\n",
      "\u001b[0;31mFileNotFoundError\u001b[0m: [Errno 2] No such file or directory: 'data-science-bootcamp-roadmap-c697bad66df1.json'"
     ]
    }
   ],
   "source": [
    "import pandas as pd\n",
    "import gspread\n",
    "from oauth2client.service_account import ServiceAccountCredentials\n",
    "\n",
    "# Define the scope\n",
    "scope = ['https://spreadsheets.google.com/feeds','https://www.googleapis.com/auth/drive']\n",
    "\n",
    "# Add credentials to the account\n",
    "creds = ServiceAccountCredentials.from_json_keyfile_name('data-science-bootcamp-roadmap-c697bad66df1.json', scope)\n",
    "\n",
    "# Authorize the clientsheet \n",
    "client = gspread.authorize(creds)\n",
    "\n",
    "# Open the spreadhseet\n",
    "sheet = client.open('Bootcamp TOC')\n",
    "\n",
    "# Get the first sheet of the Spreadsheet\n",
    "worksheet = sheet.get_worksheet(0)\n",
    "\n",
    "# Get all the records of the data\n",
    "data = worksheet.get_all_records()\n",
    "\n",
    "# Convert to a DataFrame\n",
    "df = pd.DataFrame(data)\n",
    "\n",
    "# Show DataFrame\n",
    "#df"
   ]
  },
  {
   "cell_type": "code",
   "execution_count": 91,
   "id": "d6b38078-c140-4663-a50f-6a474ae62138",
   "metadata": {},
   "outputs": [
    {
     "name": "stdout",
     "output_type": "stream",
     "text": [
      "['Bootcamp', 'Activity', 'Assessment', 'Practical exercise ', 'Session', 'Usecase', 'Interactive Activity', 'Jeopardy Activity', 'Penguin Activity', 'Self Assessment', 'Hands-on_Session', 'Lab', 'Main_session', 'Side_session', 'Usecase', 'Usecase - Lab', 'Usecase - Project']\n",
      "['', 'Bootcamp', 'Bootcamp', 'Bootcamp', 'Bootcamp', 'Bootcamp', 'Activity', 'Activity', 'Activity', 'Assessment', 'Practical exercise ', 'Practical exercise ', 'Session', 'Session', 'Usecase', 'Usecase', 'Usecase']\n",
      "[110, 7, 1, 11, 39, 52, 5, 1, 1, 1, 6, 5, 35, 4, 24, 18, 10]\n"
     ]
    }
   ],
   "source": [
    "labels = [\"Bootcamp\"]\n",
    "parents = [\"\"]\n",
    "values = [df.shape[0]]\n",
    "temp_1 = df.groupby(['general_type'], as_index=False).count()[['general_type','#Day']]\n",
    "labels.extend(list(temp_1['general_type'].values))\n",
    "values.extend(list(temp_1['#Day'].values))\n",
    "parents.extend([\"Bootcamp\"]*temp_1.shape[0])\n",
    "temp_2 = df.groupby(['general_type', 'type'], as_index=False).count()[['general_type', 'type','#Day']]\n",
    "labels.extend(list(temp_2['type'].values))\n",
    "parents.extend(list(temp_2['general_type'].values))\n",
    "values.extend(list(temp_2['#Day'].values))\n",
    "print(labels)\n",
    "print(parents)\n",
    "print(values)"
   ]
  },
  {
   "cell_type": "code",
   "execution_count": 83,
   "id": "156b910a-ad20-46c0-a1fd-2c52d846de3a",
   "metadata": {},
   "outputs": [
    {
     "data": {
      "text/html": [
       "<div>\n",
       "<style scoped>\n",
       "    .dataframe tbody tr th:only-of-type {\n",
       "        vertical-align: middle;\n",
       "    }\n",
       "\n",
       "    .dataframe tbody tr th {\n",
       "        vertical-align: top;\n",
       "    }\n",
       "\n",
       "    .dataframe thead th {\n",
       "        text-align: right;\n",
       "    }\n",
       "</style>\n",
       "<table border=\"1\" class=\"dataframe\">\n",
       "  <thead>\n",
       "    <tr style=\"text-align: right;\">\n",
       "      <th></th>\n",
       "      <th>general_type</th>\n",
       "      <th>type</th>\n",
       "      <th>#Day</th>\n",
       "    </tr>\n",
       "  </thead>\n",
       "  <tbody>\n",
       "    <tr>\n",
       "      <th>0</th>\n",
       "      <td>Activity</td>\n",
       "      <td>Interactive Activity</td>\n",
       "      <td>5</td>\n",
       "    </tr>\n",
       "    <tr>\n",
       "      <th>1</th>\n",
       "      <td>Activity</td>\n",
       "      <td>Jeopardy Activity</td>\n",
       "      <td>1</td>\n",
       "    </tr>\n",
       "    <tr>\n",
       "      <th>2</th>\n",
       "      <td>Activity</td>\n",
       "      <td>Penguin Activity</td>\n",
       "      <td>1</td>\n",
       "    </tr>\n",
       "    <tr>\n",
       "      <th>3</th>\n",
       "      <td>Assessment</td>\n",
       "      <td>Self Assessment</td>\n",
       "      <td>1</td>\n",
       "    </tr>\n",
       "    <tr>\n",
       "      <th>4</th>\n",
       "      <td>Practical exercise</td>\n",
       "      <td>Hands-on_Session</td>\n",
       "      <td>6</td>\n",
       "    </tr>\n",
       "    <tr>\n",
       "      <th>5</th>\n",
       "      <td>Practical exercise</td>\n",
       "      <td>Lab</td>\n",
       "      <td>5</td>\n",
       "    </tr>\n",
       "    <tr>\n",
       "      <th>6</th>\n",
       "      <td>Session</td>\n",
       "      <td>Main_session</td>\n",
       "      <td>35</td>\n",
       "    </tr>\n",
       "    <tr>\n",
       "      <th>7</th>\n",
       "      <td>Session</td>\n",
       "      <td>Side_session</td>\n",
       "      <td>4</td>\n",
       "    </tr>\n",
       "    <tr>\n",
       "      <th>8</th>\n",
       "      <td>Usecase</td>\n",
       "      <td>Usecase</td>\n",
       "      <td>24</td>\n",
       "    </tr>\n",
       "    <tr>\n",
       "      <th>9</th>\n",
       "      <td>Usecase</td>\n",
       "      <td>Usecase - Lab</td>\n",
       "      <td>18</td>\n",
       "    </tr>\n",
       "    <tr>\n",
       "      <th>10</th>\n",
       "      <td>Usecase</td>\n",
       "      <td>Usecase - Project</td>\n",
       "      <td>10</td>\n",
       "    </tr>\n",
       "  </tbody>\n",
       "</table>\n",
       "</div>"
      ],
      "text/plain": [
       "           general_type                  type  #Day\n",
       "0              Activity  Interactive Activity     5\n",
       "1              Activity     Jeopardy Activity     1\n",
       "2              Activity      Penguin Activity     1\n",
       "3            Assessment       Self Assessment     1\n",
       "4   Practical exercise       Hands-on_Session     6\n",
       "5   Practical exercise                    Lab     5\n",
       "6               Session          Main_session    35\n",
       "7               Session          Side_session     4\n",
       "8               Usecase               Usecase    24\n",
       "9               Usecase         Usecase - Lab    18\n",
       "10              Usecase     Usecase - Project    10"
      ]
     },
     "execution_count": 83,
     "metadata": {},
     "output_type": "execute_result"
    }
   ],
   "source": [
    "df.groupby(['general_type', 'type'], as_index=False).count()[['general_type', 'type','#Day']]"
   ]
  },
  {
   "cell_type": "code",
   "execution_count": 82,
   "id": "2a354ff7-e93c-4733-afed-1f3d322d8049",
   "metadata": {},
   "outputs": [
    {
     "data": {
      "text/html": [
       "<div>\n",
       "<style scoped>\n",
       "    .dataframe tbody tr th:only-of-type {\n",
       "        vertical-align: middle;\n",
       "    }\n",
       "\n",
       "    .dataframe tbody tr th {\n",
       "        vertical-align: top;\n",
       "    }\n",
       "\n",
       "    .dataframe thead th {\n",
       "        text-align: right;\n",
       "    }\n",
       "</style>\n",
       "<table border=\"1\" class=\"dataframe\">\n",
       "  <thead>\n",
       "    <tr style=\"text-align: right;\">\n",
       "      <th></th>\n",
       "      <th>general_type</th>\n",
       "      <th>#Day</th>\n",
       "    </tr>\n",
       "  </thead>\n",
       "  <tbody>\n",
       "    <tr>\n",
       "      <th>0</th>\n",
       "      <td>Activity</td>\n",
       "      <td>7</td>\n",
       "    </tr>\n",
       "    <tr>\n",
       "      <th>1</th>\n",
       "      <td>Assessment</td>\n",
       "      <td>1</td>\n",
       "    </tr>\n",
       "    <tr>\n",
       "      <th>2</th>\n",
       "      <td>Practical exercise</td>\n",
       "      <td>11</td>\n",
       "    </tr>\n",
       "    <tr>\n",
       "      <th>3</th>\n",
       "      <td>Session</td>\n",
       "      <td>39</td>\n",
       "    </tr>\n",
       "    <tr>\n",
       "      <th>4</th>\n",
       "      <td>Usecase</td>\n",
       "      <td>52</td>\n",
       "    </tr>\n",
       "  </tbody>\n",
       "</table>\n",
       "</div>"
      ],
      "text/plain": [
       "          general_type  #Day\n",
       "0             Activity     7\n",
       "1           Assessment     1\n",
       "2  Practical exercise     11\n",
       "3              Session    39\n",
       "4              Usecase    52"
      ]
     },
     "execution_count": 82,
     "metadata": {},
     "output_type": "execute_result"
    }
   ],
   "source": [
    "level_1 = df.groupby(['general_type'], as_index=False).count()[['general_type','#Day']]"
   ]
  },
  {
   "cell_type": "code",
   "execution_count": 94,
   "id": "0d465e65-4385-4842-981a-e3a7a8582e16",
   "metadata": {},
   "outputs": [
    {
     "data": {
      "text/html": [
       "<div>\n",
       "<style scoped>\n",
       "    .dataframe tbody tr th:only-of-type {\n",
       "        vertical-align: middle;\n",
       "    }\n",
       "\n",
       "    .dataframe tbody tr th {\n",
       "        vertical-align: top;\n",
       "    }\n",
       "\n",
       "    .dataframe thead th {\n",
       "        text-align: right;\n",
       "    }\n",
       "</style>\n",
       "<table border=\"1\" class=\"dataframe\">\n",
       "  <thead>\n",
       "    <tr style=\"text-align: right;\">\n",
       "      <th></th>\n",
       "      <th>type</th>\n",
       "      <th>#Day</th>\n",
       "    </tr>\n",
       "  </thead>\n",
       "  <tbody>\n",
       "    <tr>\n",
       "      <th>0</th>\n",
       "      <td>Hands-on_Session</td>\n",
       "      <td>6</td>\n",
       "    </tr>\n",
       "    <tr>\n",
       "      <th>1</th>\n",
       "      <td>Interactive Activity</td>\n",
       "      <td>5</td>\n",
       "    </tr>\n",
       "    <tr>\n",
       "      <th>2</th>\n",
       "      <td>Jeopardy Activity</td>\n",
       "      <td>1</td>\n",
       "    </tr>\n",
       "    <tr>\n",
       "      <th>3</th>\n",
       "      <td>Lab</td>\n",
       "      <td>5</td>\n",
       "    </tr>\n",
       "    <tr>\n",
       "      <th>4</th>\n",
       "      <td>Main_session</td>\n",
       "      <td>35</td>\n",
       "    </tr>\n",
       "    <tr>\n",
       "      <th>5</th>\n",
       "      <td>Penguin Activity</td>\n",
       "      <td>1</td>\n",
       "    </tr>\n",
       "    <tr>\n",
       "      <th>6</th>\n",
       "      <td>Self Assessment</td>\n",
       "      <td>1</td>\n",
       "    </tr>\n",
       "    <tr>\n",
       "      <th>7</th>\n",
       "      <td>Side_session</td>\n",
       "      <td>4</td>\n",
       "    </tr>\n",
       "    <tr>\n",
       "      <th>8</th>\n",
       "      <td>Usecase</td>\n",
       "      <td>24</td>\n",
       "    </tr>\n",
       "    <tr>\n",
       "      <th>9</th>\n",
       "      <td>Usecase - Lab</td>\n",
       "      <td>18</td>\n",
       "    </tr>\n",
       "    <tr>\n",
       "      <th>10</th>\n",
       "      <td>Usecase - Project</td>\n",
       "      <td>10</td>\n",
       "    </tr>\n",
       "  </tbody>\n",
       "</table>\n",
       "</div>"
      ],
      "text/plain": [
       "                    type  #Day\n",
       "0       Hands-on_Session     6\n",
       "1   Interactive Activity     5\n",
       "2      Jeopardy Activity     1\n",
       "3                    Lab     5\n",
       "4           Main_session    35\n",
       "5       Penguin Activity     1\n",
       "6        Self Assessment     1\n",
       "7           Side_session     4\n",
       "8                Usecase    24\n",
       "9          Usecase - Lab    18\n",
       "10     Usecase - Project    10"
      ]
     },
     "execution_count": 94,
     "metadata": {},
     "output_type": "execute_result"
    }
   ],
   "source": [
    "\n",
    "s = df.groupby('type', as_index=False).count()[['type','#Day']]\n",
    "s"
   ]
  },
  {
   "cell_type": "code",
   "execution_count": 46,
   "id": "9a0878f9-ce6f-4409-a470-78e34359f8a4",
   "metadata": {},
   "outputs": [],
   "source": [
    "def split_text_column(df, text_col):\n",
    "    # Split the text column and create a new DataFrame\n",
    "    df = df[['Date', 'Title','type', text_col]]\n",
    "    splitted_df = (\n",
    "    df.set_index(['Date', 'Title', 'type'])\n",
    "    .apply(lambda x: x.str.split(',').explode())  # Split and explode the 'text' column\n",
    "    .reset_index()  # Reset the index to bring 'id' and 'other_column' back to columns\n",
    "    )\n",
    "    return splitted_df"
   ]
  },
  {
   "cell_type": "code",
   "execution_count": null,
   "id": "086bbd0a-659a-42b7-a4cf-1042bae6c894",
   "metadata": {},
   "outputs": [],
   "source": [
    "go.Sunburst("
   ]
  },
  {
   "cell_type": "code",
   "execution_count": 92,
   "id": "4d06bc3a-f302-4767-ad43-3781e526f13f",
   "metadata": {},
   "outputs": [
    {
     "data": {
      "application/vnd.plotly.v1+json": {
       "config": {
        "plotlyServerURL": "https://plot.ly"
       },
       "data": [
        {
         "labels": [
          "Eve",
          "Cain",
          "Seth",
          "Enos",
          "Noam",
          "Abel",
          "Awan",
          "Enoch",
          "Azura"
         ],
         "parents": [
          "",
          "Eve",
          "Eve",
          "Seth",
          "Seth",
          "Eve",
          "Eve",
          "Awan",
          "Eve"
         ],
         "type": "sunburst",
         "values": [
          10,
          14,
          12,
          10,
          2,
          6,
          6,
          4,
          4
         ]
        }
       ],
       "layout": {
        "autosize": true,
        "margin": {
         "b": 0,
         "l": 0,
         "r": 0,
         "t": 0
        },
        "template": {
         "data": {
          "bar": [
           {
            "error_x": {
             "color": "#2a3f5f"
            },
            "error_y": {
             "color": "#2a3f5f"
            },
            "marker": {
             "line": {
              "color": "#E5ECF6",
              "width": 0.5
             },
             "pattern": {
              "fillmode": "overlay",
              "size": 10,
              "solidity": 0.2
             }
            },
            "type": "bar"
           }
          ],
          "barpolar": [
           {
            "marker": {
             "line": {
              "color": "#E5ECF6",
              "width": 0.5
             },
             "pattern": {
              "fillmode": "overlay",
              "size": 10,
              "solidity": 0.2
             }
            },
            "type": "barpolar"
           }
          ],
          "carpet": [
           {
            "aaxis": {
             "endlinecolor": "#2a3f5f",
             "gridcolor": "white",
             "linecolor": "white",
             "minorgridcolor": "white",
             "startlinecolor": "#2a3f5f"
            },
            "baxis": {
             "endlinecolor": "#2a3f5f",
             "gridcolor": "white",
             "linecolor": "white",
             "minorgridcolor": "white",
             "startlinecolor": "#2a3f5f"
            },
            "type": "carpet"
           }
          ],
          "choropleth": [
           {
            "colorbar": {
             "outlinewidth": 0,
             "ticks": ""
            },
            "type": "choropleth"
           }
          ],
          "contour": [
           {
            "colorbar": {
             "outlinewidth": 0,
             "ticks": ""
            },
            "colorscale": [
             [
              0,
              "#0d0887"
             ],
             [
              0.1111111111111111,
              "#46039f"
             ],
             [
              0.2222222222222222,
              "#7201a8"
             ],
             [
              0.3333333333333333,
              "#9c179e"
             ],
             [
              0.4444444444444444,
              "#bd3786"
             ],
             [
              0.5555555555555556,
              "#d8576b"
             ],
             [
              0.6666666666666666,
              "#ed7953"
             ],
             [
              0.7777777777777778,
              "#fb9f3a"
             ],
             [
              0.8888888888888888,
              "#fdca26"
             ],
             [
              1,
              "#f0f921"
             ]
            ],
            "type": "contour"
           }
          ],
          "contourcarpet": [
           {
            "colorbar": {
             "outlinewidth": 0,
             "ticks": ""
            },
            "type": "contourcarpet"
           }
          ],
          "heatmap": [
           {
            "colorbar": {
             "outlinewidth": 0,
             "ticks": ""
            },
            "colorscale": [
             [
              0,
              "#0d0887"
             ],
             [
              0.1111111111111111,
              "#46039f"
             ],
             [
              0.2222222222222222,
              "#7201a8"
             ],
             [
              0.3333333333333333,
              "#9c179e"
             ],
             [
              0.4444444444444444,
              "#bd3786"
             ],
             [
              0.5555555555555556,
              "#d8576b"
             ],
             [
              0.6666666666666666,
              "#ed7953"
             ],
             [
              0.7777777777777778,
              "#fb9f3a"
             ],
             [
              0.8888888888888888,
              "#fdca26"
             ],
             [
              1,
              "#f0f921"
             ]
            ],
            "type": "heatmap"
           }
          ],
          "heatmapgl": [
           {
            "colorbar": {
             "outlinewidth": 0,
             "ticks": ""
            },
            "colorscale": [
             [
              0,
              "#0d0887"
             ],
             [
              0.1111111111111111,
              "#46039f"
             ],
             [
              0.2222222222222222,
              "#7201a8"
             ],
             [
              0.3333333333333333,
              "#9c179e"
             ],
             [
              0.4444444444444444,
              "#bd3786"
             ],
             [
              0.5555555555555556,
              "#d8576b"
             ],
             [
              0.6666666666666666,
              "#ed7953"
             ],
             [
              0.7777777777777778,
              "#fb9f3a"
             ],
             [
              0.8888888888888888,
              "#fdca26"
             ],
             [
              1,
              "#f0f921"
             ]
            ],
            "type": "heatmapgl"
           }
          ],
          "histogram": [
           {
            "marker": {
             "pattern": {
              "fillmode": "overlay",
              "size": 10,
              "solidity": 0.2
             }
            },
            "type": "histogram"
           }
          ],
          "histogram2d": [
           {
            "colorbar": {
             "outlinewidth": 0,
             "ticks": ""
            },
            "colorscale": [
             [
              0,
              "#0d0887"
             ],
             [
              0.1111111111111111,
              "#46039f"
             ],
             [
              0.2222222222222222,
              "#7201a8"
             ],
             [
              0.3333333333333333,
              "#9c179e"
             ],
             [
              0.4444444444444444,
              "#bd3786"
             ],
             [
              0.5555555555555556,
              "#d8576b"
             ],
             [
              0.6666666666666666,
              "#ed7953"
             ],
             [
              0.7777777777777778,
              "#fb9f3a"
             ],
             [
              0.8888888888888888,
              "#fdca26"
             ],
             [
              1,
              "#f0f921"
             ]
            ],
            "type": "histogram2d"
           }
          ],
          "histogram2dcontour": [
           {
            "colorbar": {
             "outlinewidth": 0,
             "ticks": ""
            },
            "colorscale": [
             [
              0,
              "#0d0887"
             ],
             [
              0.1111111111111111,
              "#46039f"
             ],
             [
              0.2222222222222222,
              "#7201a8"
             ],
             [
              0.3333333333333333,
              "#9c179e"
             ],
             [
              0.4444444444444444,
              "#bd3786"
             ],
             [
              0.5555555555555556,
              "#d8576b"
             ],
             [
              0.6666666666666666,
              "#ed7953"
             ],
             [
              0.7777777777777778,
              "#fb9f3a"
             ],
             [
              0.8888888888888888,
              "#fdca26"
             ],
             [
              1,
              "#f0f921"
             ]
            ],
            "type": "histogram2dcontour"
           }
          ],
          "mesh3d": [
           {
            "colorbar": {
             "outlinewidth": 0,
             "ticks": ""
            },
            "type": "mesh3d"
           }
          ],
          "parcoords": [
           {
            "line": {
             "colorbar": {
              "outlinewidth": 0,
              "ticks": ""
             }
            },
            "type": "parcoords"
           }
          ],
          "pie": [
           {
            "automargin": true,
            "type": "pie"
           }
          ],
          "scatter": [
           {
            "fillpattern": {
             "fillmode": "overlay",
             "size": 10,
             "solidity": 0.2
            },
            "type": "scatter"
           }
          ],
          "scatter3d": [
           {
            "line": {
             "colorbar": {
              "outlinewidth": 0,
              "ticks": ""
             }
            },
            "marker": {
             "colorbar": {
              "outlinewidth": 0,
              "ticks": ""
             }
            },
            "type": "scatter3d"
           }
          ],
          "scattercarpet": [
           {
            "marker": {
             "colorbar": {
              "outlinewidth": 0,
              "ticks": ""
             }
            },
            "type": "scattercarpet"
           }
          ],
          "scattergeo": [
           {
            "marker": {
             "colorbar": {
              "outlinewidth": 0,
              "ticks": ""
             }
            },
            "type": "scattergeo"
           }
          ],
          "scattergl": [
           {
            "marker": {
             "colorbar": {
              "outlinewidth": 0,
              "ticks": ""
             }
            },
            "type": "scattergl"
           }
          ],
          "scattermapbox": [
           {
            "marker": {
             "colorbar": {
              "outlinewidth": 0,
              "ticks": ""
             }
            },
            "type": "scattermapbox"
           }
          ],
          "scatterpolar": [
           {
            "marker": {
             "colorbar": {
              "outlinewidth": 0,
              "ticks": ""
             }
            },
            "type": "scatterpolar"
           }
          ],
          "scatterpolargl": [
           {
            "marker": {
             "colorbar": {
              "outlinewidth": 0,
              "ticks": ""
             }
            },
            "type": "scatterpolargl"
           }
          ],
          "scatterternary": [
           {
            "marker": {
             "colorbar": {
              "outlinewidth": 0,
              "ticks": ""
             }
            },
            "type": "scatterternary"
           }
          ],
          "surface": [
           {
            "colorbar": {
             "outlinewidth": 0,
             "ticks": ""
            },
            "colorscale": [
             [
              0,
              "#0d0887"
             ],
             [
              0.1111111111111111,
              "#46039f"
             ],
             [
              0.2222222222222222,
              "#7201a8"
             ],
             [
              0.3333333333333333,
              "#9c179e"
             ],
             [
              0.4444444444444444,
              "#bd3786"
             ],
             [
              0.5555555555555556,
              "#d8576b"
             ],
             [
              0.6666666666666666,
              "#ed7953"
             ],
             [
              0.7777777777777778,
              "#fb9f3a"
             ],
             [
              0.8888888888888888,
              "#fdca26"
             ],
             [
              1,
              "#f0f921"
             ]
            ],
            "type": "surface"
           }
          ],
          "table": [
           {
            "cells": {
             "fill": {
              "color": "#EBF0F8"
             },
             "line": {
              "color": "white"
             }
            },
            "header": {
             "fill": {
              "color": "#C8D4E3"
             },
             "line": {
              "color": "white"
             }
            },
            "type": "table"
           }
          ]
         },
         "layout": {
          "annotationdefaults": {
           "arrowcolor": "#2a3f5f",
           "arrowhead": 0,
           "arrowwidth": 1
          },
          "autotypenumbers": "strict",
          "coloraxis": {
           "colorbar": {
            "outlinewidth": 0,
            "ticks": ""
           }
          },
          "colorscale": {
           "diverging": [
            [
             0,
             "#8e0152"
            ],
            [
             0.1,
             "#c51b7d"
            ],
            [
             0.2,
             "#de77ae"
            ],
            [
             0.3,
             "#f1b6da"
            ],
            [
             0.4,
             "#fde0ef"
            ],
            [
             0.5,
             "#f7f7f7"
            ],
            [
             0.6,
             "#e6f5d0"
            ],
            [
             0.7,
             "#b8e186"
            ],
            [
             0.8,
             "#7fbc41"
            ],
            [
             0.9,
             "#4d9221"
            ],
            [
             1,
             "#276419"
            ]
           ],
           "sequential": [
            [
             0,
             "#0d0887"
            ],
            [
             0.1111111111111111,
             "#46039f"
            ],
            [
             0.2222222222222222,
             "#7201a8"
            ],
            [
             0.3333333333333333,
             "#9c179e"
            ],
            [
             0.4444444444444444,
             "#bd3786"
            ],
            [
             0.5555555555555556,
             "#d8576b"
            ],
            [
             0.6666666666666666,
             "#ed7953"
            ],
            [
             0.7777777777777778,
             "#fb9f3a"
            ],
            [
             0.8888888888888888,
             "#fdca26"
            ],
            [
             1,
             "#f0f921"
            ]
           ],
           "sequentialminus": [
            [
             0,
             "#0d0887"
            ],
            [
             0.1111111111111111,
             "#46039f"
            ],
            [
             0.2222222222222222,
             "#7201a8"
            ],
            [
             0.3333333333333333,
             "#9c179e"
            ],
            [
             0.4444444444444444,
             "#bd3786"
            ],
            [
             0.5555555555555556,
             "#d8576b"
            ],
            [
             0.6666666666666666,
             "#ed7953"
            ],
            [
             0.7777777777777778,
             "#fb9f3a"
            ],
            [
             0.8888888888888888,
             "#fdca26"
            ],
            [
             1,
             "#f0f921"
            ]
           ]
          },
          "colorway": [
           "#636efa",
           "#EF553B",
           "#00cc96",
           "#ab63fa",
           "#FFA15A",
           "#19d3f3",
           "#FF6692",
           "#B6E880",
           "#FF97FF",
           "#FECB52"
          ],
          "font": {
           "color": "#2a3f5f"
          },
          "geo": {
           "bgcolor": "white",
           "lakecolor": "white",
           "landcolor": "#E5ECF6",
           "showlakes": true,
           "showland": true,
           "subunitcolor": "white"
          },
          "hoverlabel": {
           "align": "left"
          },
          "hovermode": "closest",
          "mapbox": {
           "style": "light"
          },
          "paper_bgcolor": "white",
          "plot_bgcolor": "#E5ECF6",
          "polar": {
           "angularaxis": {
            "gridcolor": "white",
            "linecolor": "white",
            "ticks": ""
           },
           "bgcolor": "#E5ECF6",
           "radialaxis": {
            "gridcolor": "white",
            "linecolor": "white",
            "ticks": ""
           }
          },
          "scene": {
           "xaxis": {
            "backgroundcolor": "#E5ECF6",
            "gridcolor": "white",
            "gridwidth": 2,
            "linecolor": "white",
            "showbackground": true,
            "ticks": "",
            "zerolinecolor": "white"
           },
           "yaxis": {
            "backgroundcolor": "#E5ECF6",
            "gridcolor": "white",
            "gridwidth": 2,
            "linecolor": "white",
            "showbackground": true,
            "ticks": "",
            "zerolinecolor": "white"
           },
           "zaxis": {
            "backgroundcolor": "#E5ECF6",
            "gridcolor": "white",
            "gridwidth": 2,
            "linecolor": "white",
            "showbackground": true,
            "ticks": "",
            "zerolinecolor": "white"
           }
          },
          "shapedefaults": {
           "line": {
            "color": "#2a3f5f"
           }
          },
          "ternary": {
           "aaxis": {
            "gridcolor": "white",
            "linecolor": "white",
            "ticks": ""
           },
           "baxis": {
            "gridcolor": "white",
            "linecolor": "white",
            "ticks": ""
           },
           "bgcolor": "#E5ECF6",
           "caxis": {
            "gridcolor": "white",
            "linecolor": "white",
            "ticks": ""
           }
          },
          "title": {
           "x": 0.05
          },
          "xaxis": {
           "automargin": true,
           "gridcolor": "white",
           "linecolor": "white",
           "ticks": "",
           "title": {
            "standoff": 15
           },
           "zerolinecolor": "white",
           "zerolinewidth": 2
          },
          "yaxis": {
           "automargin": true,
           "gridcolor": "white",
           "linecolor": "white",
           "ticks": "",
           "title": {
            "standoff": 15
           },
           "zerolinecolor": "white",
           "zerolinewidth": 2
          }
         }
        }
       }
      },
      "image/png": "[encoded data removed]",
      "text/html": [
       "<div>                            <div id=\"2ab13270-77eb-4b2c-9561-985daddf449e\" class=\"plotly-graph-div\" style=\"height:525px; width:100%;\"></div>            <script type=\"text/javascript\">                require([\"plotly\"], function(Plotly) {                    window.PLOTLYENV=window.PLOTLYENV || {};                                    if (document.getElementById(\"2ab13270-77eb-4b2c-9561-985daddf449e\")) {                    Plotly.newPlot(                        \"2ab13270-77eb-4b2c-9561-985daddf449e\",                        [{\"labels\":[\"Eve\",\"Cain\",\"Seth\",\"Enos\",\"Noam\",\"Abel\",\"Awan\",\"Enoch\",\"Azura\"],\"parents\":[\"\",\"Eve\",\"Eve\",\"Seth\",\"Seth\",\"Eve\",\"Eve\",\"Awan\",\"Eve\"],\"values\":[10,14,12,10,2,6,6,4,4],\"type\":\"sunburst\"}],                        {\"template\":{\"data\":{\"histogram2dcontour\":[{\"type\":\"histogram2dcontour\",\"colorbar\":{\"outlinewidth\":0,\"ticks\":\"\"},\"colorscale\":[[0.0,\"#0d0887\"],[0.1111111111111111,\"#46039f\"],[0.2222222222222222,\"#7201a8\"],[0.3333333333333333,\"#9c179e\"],[0.4444444444444444,\"#bd3786\"],[0.5555555555555556,\"#d8576b\"],[0.6666666666666666,\"#ed7953\"],[0.7777777777777778,\"#fb9f3a\"],[0.8888888888888888,\"#fdca26\"],[1.0,\"#f0f921\"]]}],\"choropleth\":[{\"type\":\"choropleth\",\"colorbar\":{\"outlinewidth\":0,\"ticks\":\"\"}}],\"histogram2d\":[{\"type\":\"histogram2d\",\"colorbar\":{\"outlinewidth\":0,\"ticks\":\"\"},\"colorscale\":[[0.0,\"#0d0887\"],[0.1111111111111111,\"#46039f\"],[0.2222222222222222,\"#7201a8\"],[0.3333333333333333,\"#9c179e\"],[0.4444444444444444,\"#bd3786\"],[0.5555555555555556,\"#d8576b\"],[0.6666666666666666,\"#ed7953\"],[0.7777777777777778,\"#fb9f3a\"],[0.8888888888888888,\"#fdca26\"],[1.0,\"#f0f921\"]]}],\"heatmap\":[{\"type\":\"heatmap\",\"colorbar\":{\"outlinewidth\":0,\"ticks\":\"\"},\"colorscale\":[[0.0,\"#0d0887\"],[0.1111111111111111,\"#46039f\"],[0.2222222222222222,\"#7201a8\"],[0.3333333333333333,\"#9c179e\"],[0.4444444444444444,\"#bd3786\"],[0.5555555555555556,\"#d8576b\"],[0.6666666666666666,\"#ed7953\"],[0.7777777777777778,\"#fb9f3a\"],[0.8888888888888888,\"#fdca26\"],[1.0,\"#f0f921\"]]}],\"heatmapgl\":[{\"type\":\"heatmapgl\",\"colorbar\":{\"outlinewidth\":0,\"ticks\":\"\"},\"colorscale\":[[0.0,\"#0d0887\"],[0.1111111111111111,\"#46039f\"],[0.2222222222222222,\"#7201a8\"],[0.3333333333333333,\"#9c179e\"],[0.4444444444444444,\"#bd3786\"],[0.5555555555555556,\"#d8576b\"],[0.6666666666666666,\"#ed7953\"],[0.7777777777777778,\"#fb9f3a\"],[0.8888888888888888,\"#fdca26\"],[1.0,\"#f0f921\"]]}],\"contourcarpet\":[{\"type\":\"contourcarpet\",\"colorbar\":{\"outlinewidth\":0,\"ticks\":\"\"}}],\"contour\":[{\"type\":\"contour\",\"colorbar\":{\"outlinewidth\":0,\"ticks\":\"\"},\"colorscale\":[[0.0,\"#0d0887\"],[0.1111111111111111,\"#46039f\"],[0.2222222222222222,\"#7201a8\"],[0.3333333333333333,\"#9c179e\"],[0.4444444444444444,\"#bd3786\"],[0.5555555555555556,\"#d8576b\"],[0.6666666666666666,\"#ed7953\"],[0.7777777777777778,\"#fb9f3a\"],[0.8888888888888888,\"#fdca26\"],[1.0,\"#f0f921\"]]}],\"surface\":[{\"type\":\"surface\",\"colorbar\":{\"outlinewidth\":0,\"ticks\":\"\"},\"colorscale\":[[0.0,\"#0d0887\"],[0.1111111111111111,\"#46039f\"],[0.2222222222222222,\"#7201a8\"],[0.3333333333333333,\"#9c179e\"],[0.4444444444444444,\"#bd3786\"],[0.5555555555555556,\"#d8576b\"],[0.6666666666666666,\"#ed7953\"],[0.7777777777777778,\"#fb9f3a\"],[0.8888888888888888,\"#fdca26\"],[1.0,\"#f0f921\"]]}],\"mesh3d\":[{\"type\":\"mesh3d\",\"colorbar\":{\"outlinewidth\":0,\"ticks\":\"\"}}],\"scatter\":[{\"fillpattern\":{\"fillmode\":\"overlay\",\"size\":10,\"solidity\":0.2},\"type\":\"scatter\"}],\"parcoords\":[{\"type\":\"parcoords\",\"line\":{\"colorbar\":{\"outlinewidth\":0,\"ticks\":\"\"}}}],\"scatterpolargl\":[{\"type\":\"scatterpolargl\",\"marker\":{\"colorbar\":{\"outlinewidth\":0,\"ticks\":\"\"}}}],\"bar\":[{\"error_x\":{\"color\":\"#2a3f5f\"},\"error_y\":{\"color\":\"#2a3f5f\"},\"marker\":{\"line\":{\"color\":\"#E5ECF6\",\"width\":0.5},\"pattern\":{\"fillmode\":\"overlay\",\"size\":10,\"solidity\":0.2}},\"type\":\"bar\"}],\"scattergeo\":[{\"type\":\"scattergeo\",\"marker\":{\"colorbar\":{\"outlinewidth\":0,\"ticks\":\"\"}}}],\"scatterpolar\":[{\"type\":\"scatterpolar\",\"marker\":{\"colorbar\":{\"outlinewidth\":0,\"ticks\":\"\"}}}],\"histogram\":[{\"marker\":{\"pattern\":{\"fillmode\":\"overlay\",\"size\":10,\"solidity\":0.2}},\"type\":\"histogram\"}],\"scattergl\":[{\"type\":\"scattergl\",\"marker\":{\"colorbar\":{\"outlinewidth\":0,\"ticks\":\"\"}}}],\"scatter3d\":[{\"type\":\"scatter3d\",\"line\":{\"colorbar\":{\"outlinewidth\":0,\"ticks\":\"\"}},\"marker\":{\"colorbar\":{\"outlinewidth\":0,\"ticks\":\"\"}}}],\"scattermapbox\":[{\"type\":\"scattermapbox\",\"marker\":{\"colorbar\":{\"outlinewidth\":0,\"ticks\":\"\"}}}],\"scatterternary\":[{\"type\":\"scatterternary\",\"marker\":{\"colorbar\":{\"outlinewidth\":0,\"ticks\":\"\"}}}],\"scattercarpet\":[{\"type\":\"scattercarpet\",\"marker\":{\"colorbar\":{\"outlinewidth\":0,\"ticks\":\"\"}}}],\"carpet\":[{\"aaxis\":{\"endlinecolor\":\"#2a3f5f\",\"gridcolor\":\"white\",\"linecolor\":\"white\",\"minorgridcolor\":\"white\",\"startlinecolor\":\"#2a3f5f\"},\"baxis\":{\"endlinecolor\":\"#2a3f5f\",\"gridcolor\":\"white\",\"linecolor\":\"white\",\"minorgridcolor\":\"white\",\"startlinecolor\":\"#2a3f5f\"},\"type\":\"carpet\"}],\"table\":[{\"cells\":{\"fill\":{\"color\":\"#EBF0F8\"},\"line\":{\"color\":\"white\"}},\"header\":{\"fill\":{\"color\":\"#C8D4E3\"},\"line\":{\"color\":\"white\"}},\"type\":\"table\"}],\"barpolar\":[{\"marker\":{\"line\":{\"color\":\"#E5ECF6\",\"width\":0.5},\"pattern\":{\"fillmode\":\"overlay\",\"size\":10,\"solidity\":0.2}},\"type\":\"barpolar\"}],\"pie\":[{\"automargin\":true,\"type\":\"pie\"}]},\"layout\":{\"autotypenumbers\":\"strict\",\"colorway\":[\"#636efa\",\"#EF553B\",\"#00cc96\",\"#ab63fa\",\"#FFA15A\",\"#19d3f3\",\"#FF6692\",\"#B6E880\",\"#FF97FF\",\"#FECB52\"],\"font\":{\"color\":\"#2a3f5f\"},\"hovermode\":\"closest\",\"hoverlabel\":{\"align\":\"left\"},\"paper_bgcolor\":\"white\",\"plot_bgcolor\":\"#E5ECF6\",\"polar\":{\"bgcolor\":\"#E5ECF6\",\"angularaxis\":{\"gridcolor\":\"white\",\"linecolor\":\"white\",\"ticks\":\"\"},\"radialaxis\":{\"gridcolor\":\"white\",\"linecolor\":\"white\",\"ticks\":\"\"}},\"ternary\":{\"bgcolor\":\"#E5ECF6\",\"aaxis\":{\"gridcolor\":\"white\",\"linecolor\":\"white\",\"ticks\":\"\"},\"baxis\":{\"gridcolor\":\"white\",\"linecolor\":\"white\",\"ticks\":\"\"},\"caxis\":{\"gridcolor\":\"white\",\"linecolor\":\"white\",\"ticks\":\"\"}},\"coloraxis\":{\"colorbar\":{\"outlinewidth\":0,\"ticks\":\"\"}},\"colorscale\":{\"sequential\":[[0.0,\"#0d0887\"],[0.1111111111111111,\"#46039f\"],[0.2222222222222222,\"#7201a8\"],[0.3333333333333333,\"#9c179e\"],[0.4444444444444444,\"#bd3786\"],[0.5555555555555556,\"#d8576b\"],[0.6666666666666666,\"#ed7953\"],[0.7777777777777778,\"#fb9f3a\"],[0.8888888888888888,\"#fdca26\"],[1.0,\"#f0f921\"]],\"sequentialminus\":[[0.0,\"#0d0887\"],[0.1111111111111111,\"#46039f\"],[0.2222222222222222,\"#7201a8\"],[0.3333333333333333,\"#9c179e\"],[0.4444444444444444,\"#bd3786\"],[0.5555555555555556,\"#d8576b\"],[0.6666666666666666,\"#ed7953\"],[0.7777777777777778,\"#fb9f3a\"],[0.8888888888888888,\"#fdca26\"],[1.0,\"#f0f921\"]],\"diverging\":[[0,\"#8e0152\"],[0.1,\"#c51b7d\"],[0.2,\"#de77ae\"],[0.3,\"#f1b6da\"],[0.4,\"#fde0ef\"],[0.5,\"#f7f7f7\"],[0.6,\"#e6f5d0\"],[0.7,\"#b8e186\"],[0.8,\"#7fbc41\"],[0.9,\"#4d9221\"],[1,\"#276419\"]]},\"xaxis\":{\"gridcolor\":\"white\",\"linecolor\":\"white\",\"ticks\":\"\",\"title\":{\"standoff\":15},\"zerolinecolor\":\"white\",\"automargin\":true,\"zerolinewidth\":2},\"yaxis\":{\"gridcolor\":\"white\",\"linecolor\":\"white\",\"ticks\":\"\",\"title\":{\"standoff\":15},\"zerolinecolor\":\"white\",\"automargin\":true,\"zerolinewidth\":2},\"scene\":{\"xaxis\":{\"backgroundcolor\":\"#E5ECF6\",\"gridcolor\":\"white\",\"linecolor\":\"white\",\"showbackground\":true,\"ticks\":\"\",\"zerolinecolor\":\"white\",\"gridwidth\":2},\"yaxis\":{\"backgroundcolor\":\"#E5ECF6\",\"gridcolor\":\"white\",\"linecolor\":\"white\",\"showbackground\":true,\"ticks\":\"\",\"zerolinecolor\":\"white\",\"gridwidth\":2},\"zaxis\":{\"backgroundcolor\":\"#E5ECF6\",\"gridcolor\":\"white\",\"linecolor\":\"white\",\"showbackground\":true,\"ticks\":\"\",\"zerolinecolor\":\"white\",\"gridwidth\":2}},\"shapedefaults\":{\"line\":{\"color\":\"#2a3f5f\"}},\"annotationdefaults\":{\"arrowcolor\":\"#2a3f5f\",\"arrowhead\":0,\"arrowwidth\":1},\"geo\":{\"bgcolor\":\"white\",\"landcolor\":\"#E5ECF6\",\"subunitcolor\":\"white\",\"showland\":true,\"showlakes\":true,\"lakecolor\":\"white\"},\"title\":{\"x\":0.05},\"mapbox\":{\"style\":\"light\"}}},\"margin\":{\"t\":0,\"l\":0,\"r\":0,\"b\":0}},                        {\"responsive\": true}                    ).then(function(){\n",
       "                            \n",
       "var gd = document.getElementById('2ab13270-77eb-4b2c-9561-985daddf449e');\n",
       "var x = new MutationObserver(function (mutations, observer) {{\n",
       "        var display = window.getComputedStyle(gd).display;\n",
       "        if (!display || display === 'none') {{\n",
       "            console.log([gd, 'removed!']);\n",
       "            Plotly.purge(gd);\n",
       "            observer.disconnect();\n",
       "        }}\n",
       "}});\n",
       "\n",
       "// Listen for the removal of the full notebook cells\n",
       "var notebookContainer = gd.closest('#notebook-container');\n",
       "if (notebookContainer) {{\n",
       "    x.observe(notebookContainer, {childList: true});\n",
       "}}\n",
       "\n",
       "// Listen for the clearing of the current output cell\n",
       "var outputEl = gd.closest('.output');\n",
       "if (outputEl) {{\n",
       "    x.observe(outputEl, {childList: true});\n",
       "}}\n",
       "\n",
       "                        })                };                });            </script>        </div>"
      ]
     },
     "metadata": {},
     "output_type": "display_data"
    }
   ],
   "source": [
    "import plotly.graph_objects as go\n",
    "\n",
    "fig =go.Figure(go.Sunburst(\n",
    "    labels=[\"Eve\", \"Cain\", \"Seth\", \"Enos\", \"Noam\", \"Abel\", \"Awan\", \"Enoch\", \"Azura\"],\n",
    "    parents=[\"\", \"Eve\", \"Eve\", \"Seth\", \"Seth\", \"Eve\", \"Eve\", \"Awan\", \"Eve\" ],\n",
    "    values=[10, 14, 12, 10, 2, 6, 6, 4, 4],\n",
    "))\n",
    "fig.update_layout(margin = dict(t=0, l=0, r=0, b=0))\n",
    "\n",
    "fig.show()"
   ]
  },
  {
   "cell_type": "code",
   "execution_count": 53,
   "id": "b493f828-f778-4aab-8280-8aa027f695fd",
   "metadata": {},
   "outputs": [
    {
     "data": {
      "text/html": [
       "<div>\n",
       "<style scoped>\n",
       "    .dataframe tbody tr th:only-of-type {\n",
       "        vertical-align: middle;\n",
       "    }\n",
       "\n",
       "    .dataframe tbody tr th {\n",
       "        vertical-align: top;\n",
       "    }\n",
       "\n",
       "    .dataframe thead th {\n",
       "        text-align: right;\n",
       "    }\n",
       "</style>\n",
       "<table border=\"1\" class=\"dataframe\">\n",
       "  <thead>\n",
       "    <tr style=\"text-align: right;\">\n",
       "      <th></th>\n",
       "      <th>Date</th>\n",
       "      <th>Title</th>\n",
       "      <th>type</th>\n",
       "      <th>Skill</th>\n",
       "    </tr>\n",
       "  </thead>\n",
       "  <tbody>\n",
       "    <tr>\n",
       "      <th>2</th>\n",
       "      <td>2024-04-21</td>\n",
       "      <td>Intro to data science</td>\n",
       "      <td>Main_session</td>\n",
       "      <td>Data Science Methodology &amp; Literacy</td>\n",
       "    </tr>\n",
       "    <tr>\n",
       "      <th>3</th>\n",
       "      <td>2024-04-21</td>\n",
       "      <td>Data proficiency evaluation</td>\n",
       "      <td>Assessment</td>\n",
       "      <td>Data Science Methodology &amp; Literacy</td>\n",
       "    </tr>\n",
       "  </tbody>\n",
       "</table>\n",
       "</div>"
      ],
      "text/plain": [
       "        Date                        Title          type  \\\n",
       "2 2024-04-21       Intro to data science   Main_session   \n",
       "3 2024-04-21  Data proficiency evaluation    Assessment   \n",
       "\n",
       "                                 Skill  \n",
       "2  Data Science Methodology & Literacy  \n",
       "3  Data Science Methodology & Literacy  "
      ]
     },
     "execution_count": 53,
     "metadata": {},
     "output_type": "execute_result"
    }
   ],
   "source": [
    "toc_df = split_text_column(df, 'Skill')\n",
    "toc_df[toc_df['Skill']=='Data Science Methodology & Literacy']"
   ]
  },
  {
   "cell_type": "code",
   "execution_count": 51,
   "id": "b9c9967b-cbce-405a-b5be-85dbebe99d73",
   "metadata": {},
   "outputs": [
    {
     "data": {
      "text/plain": [
       "Index(['#Week', '#Day', 'Date', 'seq', 'Title', 'Description', 'More_Details',\n",
       "       'Objective', 'type', 'Link', 'Phase', 'Skill', 'DS_step'],\n",
       "      dtype='object')"
      ]
     },
     "execution_count": 51,
     "metadata": {},
     "output_type": "execute_result"
    }
   ],
   "source": [
    "df.columns"
   ]
  },
  {
   "cell_type": "code",
   "execution_count": 33,
   "id": "8e3d6b75-92d6-4895-8b99-6ba9fa880b6b",
   "metadata": {},
   "outputs": [
    {
     "data": {
      "text/html": [
       "<div>\n",
       "<style scoped>\n",
       "    .dataframe tbody tr th:only-of-type {\n",
       "        vertical-align: middle;\n",
       "    }\n",
       "\n",
       "    .dataframe tbody tr th {\n",
       "        vertical-align: top;\n",
       "    }\n",
       "\n",
       "    .dataframe thead th {\n",
       "        text-align: right;\n",
       "    }\n",
       "</style>\n",
       "<table border=\"1\" class=\"dataframe\">\n",
       "  <thead>\n",
       "    <tr style=\"text-align: right;\">\n",
       "      <th></th>\n",
       "      <th>#Week</th>\n",
       "      <th>#Day</th>\n",
       "      <th>Date</th>\n",
       "      <th>seq</th>\n",
       "      <th>Title</th>\n",
       "      <th>Description</th>\n",
       "      <th>More_Details</th>\n",
       "      <th>Objective</th>\n",
       "      <th>type</th>\n",
       "      <th>Link</th>\n",
       "      <th>Phase</th>\n",
       "      <th>Skill</th>\n",
       "      <th>DS_step</th>\n",
       "    </tr>\n",
       "  </thead>\n",
       "  <tbody>\n",
       "    <tr>\n",
       "      <th>2</th>\n",
       "      <td>1</td>\n",
       "      <td>1</td>\n",
       "      <td>21/4/2024</td>\n",
       "      <td>3</td>\n",
       "      <td>Intro to data science</td>\n",
       "      <td>Provide a foundational overview of data scienc...</td>\n",
       "      <td></td>\n",
       "      <td></td>\n",
       "      <td>Main_session</td>\n",
       "      <td></td>\n",
       "      <td>Preparation Phase</td>\n",
       "      <td>Data Science Methodology &amp; Literacy</td>\n",
       "      <td>Step 1: Define Problem Statement</td>\n",
       "    </tr>\n",
       "    <tr>\n",
       "      <th>7</th>\n",
       "      <td>1</td>\n",
       "      <td>2</td>\n",
       "      <td>22/4/2024</td>\n",
       "      <td>1</td>\n",
       "      <td>Version Control with Git</td>\n",
       "      <td>A Beginner's Guide to Version Control and Coll...</td>\n",
       "      <td></td>\n",
       "      <td>- Understand the basics of Git for version con...</td>\n",
       "      <td>Main_session</td>\n",
       "      <td></td>\n",
       "      <td>Preparation Phase</td>\n",
       "      <td>Software engineering</td>\n",
       "      <td>Step 8: Deploy a model</td>\n",
       "    </tr>\n",
       "    <tr>\n",
       "      <th>11</th>\n",
       "      <td>1</td>\n",
       "      <td>3</td>\n",
       "      <td>23/4/2024</td>\n",
       "      <td>1</td>\n",
       "      <td>Python fundamental</td>\n",
       "      <td>Explore the core concepts of Python in this fo...</td>\n",
       "      <td></td>\n",
       "      <td>- Introduce Python syntax and basic programmin...</td>\n",
       "      <td>Main_session</td>\n",
       "      <td></td>\n",
       "      <td>Preparation Phase</td>\n",
       "      <td>Programming</td>\n",
       "      <td>Step 3: Data Quality Check and Remediation</td>\n",
       "    </tr>\n",
       "    <tr>\n",
       "      <th>17</th>\n",
       "      <td>1</td>\n",
       "      <td>5</td>\n",
       "      <td>25/4/2024</td>\n",
       "      <td>1</td>\n",
       "      <td>Numpy</td>\n",
       "      <td>This lesson gently guides you through the basi...</td>\n",
       "      <td></td>\n",
       "      <td>- Grasp the fundamentals of NumPy arrays and t...</td>\n",
       "      <td>Main_session</td>\n",
       "      <td></td>\n",
       "      <td>Preparation Phase</td>\n",
       "      <td>Programming, Data Manipulation and Analysis (w...</td>\n",
       "      <td>Step 3: Data Quality Check and Remediation, St...</td>\n",
       "    </tr>\n",
       "    <tr>\n",
       "      <th>23</th>\n",
       "      <td>2</td>\n",
       "      <td>1</td>\n",
       "      <td>28/4/2024</td>\n",
       "      <td>2</td>\n",
       "      <td>Pandas</td>\n",
       "      <td>This lesson introduces the key features of Pan...</td>\n",
       "      <td></td>\n",
       "      <td>- Familiarize yourself with Pandas Series and ...</td>\n",
       "      <td>Main_session</td>\n",
       "      <td></td>\n",
       "      <td>Preparation Phase</td>\n",
       "      <td>Programming, Data Manipulation and Analysis (w...</td>\n",
       "      <td>Step 3: Data Quality Check and Remediation, St...</td>\n",
       "    </tr>\n",
       "    <tr>\n",
       "      <th>27</th>\n",
       "      <td>2</td>\n",
       "      <td>2</td>\n",
       "      <td>29/4/2024</td>\n",
       "      <td>1</td>\n",
       "      <td>Intro to Exploratory data analysis (EDA)</td>\n",
       "      <td>Dive into the essentials of Exploratory Data A...</td>\n",
       "      <td></td>\n",
       "      <td>- Understand EDA concepts and techniques.\\n- A...</td>\n",
       "      <td>Main_session</td>\n",
       "      <td></td>\n",
       "      <td>Usecases Phase</td>\n",
       "      <td>Data Manipulation and Analysis (working with d...</td>\n",
       "      <td>Step 3: Data Quality Check and Remediation, St...</td>\n",
       "    </tr>\n",
       "    <tr>\n",
       "      <th>32</th>\n",
       "      <td>2</td>\n",
       "      <td>3</td>\n",
       "      <td>30/4/2024</td>\n",
       "      <td>3</td>\n",
       "      <td>Data Visualisation</td>\n",
       "      <td>Explore the various types of data visualizatio...</td>\n",
       "      <td>when reach part of detecting outliers in data ...</td>\n",
       "      <td>- Grasp the significance of data visualization...</td>\n",
       "      <td>Main_session</td>\n",
       "      <td></td>\n",
       "      <td>Usecases Phase</td>\n",
       "      <td>Data visualization, Data Manipulation and Anal...</td>\n",
       "      <td>Step 4: Exploratory Data Analysis, Step 7: Dat...</td>\n",
       "    </tr>\n",
       "    <tr>\n",
       "      <th>35</th>\n",
       "      <td>2</td>\n",
       "      <td>4</td>\n",
       "      <td>1/5/2024</td>\n",
       "      <td>2</td>\n",
       "      <td>Intro to Statistics</td>\n",
       "      <td>Learn the foundational principles of statistics</td>\n",
       "      <td></td>\n",
       "      <td>- Understand the basic concepts of descriptive...</td>\n",
       "      <td>Main_session</td>\n",
       "      <td></td>\n",
       "      <td>Usecases Phase</td>\n",
       "      <td>Statistics, Data Manipulation and Analysis (wo...</td>\n",
       "      <td>Step 4: Exploratory Data Analysis</td>\n",
       "    </tr>\n",
       "    <tr>\n",
       "      <th>38</th>\n",
       "      <td>2</td>\n",
       "      <td>5</td>\n",
       "      <td>2/5/2024</td>\n",
       "      <td>2</td>\n",
       "      <td>Multivariate Analysis</td>\n",
       "      <td>Dive into the complexities of examining patter...</td>\n",
       "      <td></td>\n",
       "      <td>- Understand the fundamental principles and me...</td>\n",
       "      <td>Main_session</td>\n",
       "      <td></td>\n",
       "      <td>Usecases Phase</td>\n",
       "      <td>Data visualization, Data Manipulation and Anal...</td>\n",
       "      <td>Step 4: Exploratory Data Analysis</td>\n",
       "    </tr>\n",
       "    <tr>\n",
       "      <th>42</th>\n",
       "      <td>3</td>\n",
       "      <td>1</td>\n",
       "      <td>3/5/2024</td>\n",
       "      <td>2</td>\n",
       "      <td>Data Communication</td>\n",
       "      <td>learn how to communicate complex data insights...</td>\n",
       "      <td>The rest oof data visulization pdf (best pract...</td>\n",
       "      <td>- Understand the principles of effective data ...</td>\n",
       "      <td>Main_session</td>\n",
       "      <td></td>\n",
       "      <td>Usecases Phase</td>\n",
       "      <td>Data visualization, Data Manipulation and Anal...</td>\n",
       "      <td>Step 4: Exploratory Data Analysis, Step 7: Dat...</td>\n",
       "    </tr>\n",
       "    <tr>\n",
       "      <th>46</th>\n",
       "      <td>3</td>\n",
       "      <td>2</td>\n",
       "      <td>4/5/2024</td>\n",
       "      <td>2</td>\n",
       "      <td>Advanced tools for EDA</td>\n",
       "      <td>Explore some advanced tools to perform EDA on ...</td>\n",
       "      <td></td>\n",
       "      <td></td>\n",
       "      <td>Main_session</td>\n",
       "      <td></td>\n",
       "      <td>Usecases Phase</td>\n",
       "      <td>Statistics , Data visualization, Data Manipula...</td>\n",
       "      <td>Step 3: Data Quality Check and Remediation, St...</td>\n",
       "    </tr>\n",
       "    <tr>\n",
       "      <th>51</th>\n",
       "      <td>3</td>\n",
       "      <td>4</td>\n",
       "      <td>6/5/2024</td>\n",
       "      <td>2</td>\n",
       "      <td>Data storytelling</td>\n",
       "      <td>Explore the art and science of data storytelling</td>\n",
       "      <td></td>\n",
       "      <td>- Grasp the essentials of data storytelling an...</td>\n",
       "      <td>Main_session</td>\n",
       "      <td></td>\n",
       "      <td>Usecases Phase</td>\n",
       "      <td>Data visualization, Data Manipulation and Anal...</td>\n",
       "      <td>Step 4: Exploratory Data Analysis, Step 7: Dat...</td>\n",
       "    </tr>\n",
       "    <tr>\n",
       "      <th>53</th>\n",
       "      <td>3</td>\n",
       "      <td>5</td>\n",
       "      <td>7/5/2024</td>\n",
       "      <td>1</td>\n",
       "      <td>Intro to machine learning models</td>\n",
       "      <td>Uncover the world of machine learning by explo...</td>\n",
       "      <td></td>\n",
       "      <td>- Understand different types of machine learni...</td>\n",
       "      <td>Main_session</td>\n",
       "      <td></td>\n",
       "      <td>Usecases Phase</td>\n",
       "      <td>Machine learning models</td>\n",
       "      <td>Step 5: Data Modeling</td>\n",
       "    </tr>\n",
       "    <tr>\n",
       "      <th>54</th>\n",
       "      <td>3</td>\n",
       "      <td>5</td>\n",
       "      <td>7/5/2024</td>\n",
       "      <td>2</td>\n",
       "      <td>Regression models - Linear regression</td>\n",
       "      <td>Learn a fundamental statistical method for mod...</td>\n",
       "      <td></td>\n",
       "      <td>- Grasp the concept and mathematical foundatio...</td>\n",
       "      <td>Main_session</td>\n",
       "      <td></td>\n",
       "      <td>Usecases Phase</td>\n",
       "      <td>Machine learning models</td>\n",
       "      <td>Step 5: Data Modeling</td>\n",
       "    </tr>\n",
       "    <tr>\n",
       "      <th>55</th>\n",
       "      <td>3</td>\n",
       "      <td>5</td>\n",
       "      <td>7/5/2024</td>\n",
       "      <td>3</td>\n",
       "      <td>Feature engineering</td>\n",
       "      <td>Learn how to enhance your machine learning mod...</td>\n",
       "      <td></td>\n",
       "      <td>- Understand the importance of feature enginee...</td>\n",
       "      <td>Main_session</td>\n",
       "      <td></td>\n",
       "      <td>Usecases Phase</td>\n",
       "      <td>Data engineering, Machine learning models</td>\n",
       "      <td>Step 5: Data Modeling</td>\n",
       "    </tr>\n",
       "    <tr>\n",
       "      <th>60</th>\n",
       "      <td>4</td>\n",
       "      <td>1</td>\n",
       "      <td>8/5/2024</td>\n",
       "      <td>3</td>\n",
       "      <td>Model evaluation 1</td>\n",
       "      <td>Discover the critical aspects of evaluating re...</td>\n",
       "      <td></td>\n",
       "      <td>- Discover different types of evaluation matri...</td>\n",
       "      <td>Main_session</td>\n",
       "      <td></td>\n",
       "      <td></td>\n",
       "      <td>Machine learning models</td>\n",
       "      <td>Step 5: Data Modeling, Step 6: Evaluation</td>\n",
       "    </tr>\n",
       "    <tr>\n",
       "      <th>61</th>\n",
       "      <td>4</td>\n",
       "      <td>1</td>\n",
       "      <td>8/5/2024</td>\n",
       "      <td>4</td>\n",
       "      <td>Model regularization</td>\n",
       "      <td>Examine regularization techniques that prevent...</td>\n",
       "      <td></td>\n",
       "      <td>- Learn the principles of regularization and i...</td>\n",
       "      <td>Main_session</td>\n",
       "      <td></td>\n",
       "      <td></td>\n",
       "      <td>Machine learning models</td>\n",
       "      <td>Step 5: Data Modeling, Step 6: Evaluation</td>\n",
       "    </tr>\n",
       "    <tr>\n",
       "      <th>62</th>\n",
       "      <td>4</td>\n",
       "      <td>1</td>\n",
       "      <td>8/5/2024</td>\n",
       "      <td>5</td>\n",
       "      <td>Cross validation and parameters optimization</td>\n",
       "      <td>Master the practices of cross-validation and h...</td>\n",
       "      <td></td>\n",
       "      <td>- Utilize cross-validation techniques to asses...</td>\n",
       "      <td>Main_session</td>\n",
       "      <td></td>\n",
       "      <td></td>\n",
       "      <td>Machine learning models</td>\n",
       "      <td>Step 5: Data Modeling, Step 6: Evaluation</td>\n",
       "    </tr>\n",
       "    <tr>\n",
       "      <th>65</th>\n",
       "      <td>4</td>\n",
       "      <td>2</td>\n",
       "      <td>9/5/2024</td>\n",
       "      <td>2</td>\n",
       "      <td>Classification Models - logistic regression</td>\n",
       "      <td>Explore logistic regression, a powerful statis...</td>\n",
       "      <td></td>\n",
       "      <td>- Understand the theory and mathematical under...</td>\n",
       "      <td>Main_session</td>\n",
       "      <td></td>\n",
       "      <td></td>\n",
       "      <td>Machine learning models</td>\n",
       "      <td>Step 5: Data Modeling, Step 6: Evaluation</td>\n",
       "    </tr>\n",
       "    <tr>\n",
       "      <th>66</th>\n",
       "      <td>4</td>\n",
       "      <td>2</td>\n",
       "      <td>9/5/2024</td>\n",
       "      <td>3</td>\n",
       "      <td>Model evaluation 2</td>\n",
       "      <td>Discover the critical aspects of evaluating cl...</td>\n",
       "      <td></td>\n",
       "      <td></td>\n",
       "      <td>Main_session</td>\n",
       "      <td></td>\n",
       "      <td></td>\n",
       "      <td>Machine learning models</td>\n",
       "      <td>Step 5: Data Modeling, Step 6: Evaluation</td>\n",
       "    </tr>\n",
       "    <tr>\n",
       "      <th>69</th>\n",
       "      <td>4</td>\n",
       "      <td>3</td>\n",
       "      <td>10/5/2024</td>\n",
       "      <td>2</td>\n",
       "      <td>Classification Models - Decision tree</td>\n",
       "      <td>Investigate decision trees, a versatile and in...</td>\n",
       "      <td></td>\n",
       "      <td>- Comprehend the mechanics of how decision tre...</td>\n",
       "      <td>Main_session</td>\n",
       "      <td></td>\n",
       "      <td></td>\n",
       "      <td>Machine learning models</td>\n",
       "      <td>Step 5: Data Modeling, Step 6: Evaluation</td>\n",
       "    </tr>\n",
       "    <tr>\n",
       "      <th>71</th>\n",
       "      <td>4</td>\n",
       "      <td>3</td>\n",
       "      <td>10/5/2024</td>\n",
       "      <td>4</td>\n",
       "      <td>Ensamble Models - Random Forest</td>\n",
       "      <td>Explore ensemble learning method that combines...</td>\n",
       "      <td></td>\n",
       "      <td>- Comprehend how Random Forest aggregates deci...</td>\n",
       "      <td>Main_session</td>\n",
       "      <td></td>\n",
       "      <td></td>\n",
       "      <td>Machine learning models</td>\n",
       "      <td>Step 5: Data Modeling, Step 6: Evaluation</td>\n",
       "    </tr>\n",
       "    <tr>\n",
       "      <th>74</th>\n",
       "      <td>4</td>\n",
       "      <td>4</td>\n",
       "      <td>11/5/2024</td>\n",
       "      <td>2</td>\n",
       "      <td>SVM model</td>\n",
       "      <td>Learn arobust machine learning algorithm used ...</td>\n",
       "      <td></td>\n",
       "      <td>- Understand the fundamental concepts of SVM a...</td>\n",
       "      <td>Main_session</td>\n",
       "      <td></td>\n",
       "      <td></td>\n",
       "      <td>Machine learning models</td>\n",
       "      <td>Step 5: Data Modeling, Step 6: Evaluation</td>\n",
       "    </tr>\n",
       "    <tr>\n",
       "      <th>76</th>\n",
       "      <td>4</td>\n",
       "      <td>4</td>\n",
       "      <td>11/5/2024</td>\n",
       "      <td>4</td>\n",
       "      <td>Knn model</td>\n",
       "      <td>Gain insight into the k-Nearest Neighbors (KNN...</td>\n",
       "      <td></td>\n",
       "      <td>- Grasp the workings of the KNN algorithm and ...</td>\n",
       "      <td>Main_session</td>\n",
       "      <td></td>\n",
       "      <td></td>\n",
       "      <td>Machine learning models</td>\n",
       "      <td>Step 5: Data Modeling, Step 6: Evaluation</td>\n",
       "    </tr>\n",
       "    <tr>\n",
       "      <th>79</th>\n",
       "      <td>4</td>\n",
       "      <td>5</td>\n",
       "      <td>12/5/2024</td>\n",
       "      <td>2</td>\n",
       "      <td>Intro to unsupervised learning</td>\n",
       "      <td>Dive into unsupervised learning, the class of ...</td>\n",
       "      <td></td>\n",
       "      <td>- Understand the core concepts and different t...</td>\n",
       "      <td>Main_session</td>\n",
       "      <td></td>\n",
       "      <td></td>\n",
       "      <td>Machine learning models</td>\n",
       "      <td>Step 5: Data Modeling, Step 6: Evaluation</td>\n",
       "    </tr>\n",
       "    <tr>\n",
       "      <th>80</th>\n",
       "      <td>4</td>\n",
       "      <td>5</td>\n",
       "      <td>12/5/2024</td>\n",
       "      <td>3</td>\n",
       "      <td>Kmeans model</td>\n",
       "      <td>Learn about K-Means, a popular clustering algo...</td>\n",
       "      <td></td>\n",
       "      <td>- Grasp the principles and algorithmic steps o...</td>\n",
       "      <td>Main_session</td>\n",
       "      <td></td>\n",
       "      <td></td>\n",
       "      <td>Machine learning models</td>\n",
       "      <td>Step 5: Data Modeling, Step 6: Evaluation</td>\n",
       "    </tr>\n",
       "    <tr>\n",
       "      <th>85</th>\n",
       "      <td>5</td>\n",
       "      <td>1</td>\n",
       "      <td>13/5/2024</td>\n",
       "      <td>3</td>\n",
       "      <td>Model evaluation 3</td>\n",
       "      <td>Explore various methods to evaluate the perfor...</td>\n",
       "      <td></td>\n",
       "      <td>- Learn to use metrics like silhouette score a...</td>\n",
       "      <td>Main_session</td>\n",
       "      <td></td>\n",
       "      <td></td>\n",
       "      <td>Machine learning models</td>\n",
       "      <td>Step 5: Data Modeling, Step 6: Evaluation</td>\n",
       "    </tr>\n",
       "    <tr>\n",
       "      <th>86</th>\n",
       "      <td>5</td>\n",
       "      <td>1</td>\n",
       "      <td>13/5/2024</td>\n",
       "      <td>4</td>\n",
       "      <td>DBSCAN Model</td>\n",
       "      <td>Investigate Density-Based Spatial Clustering o...</td>\n",
       "      <td></td>\n",
       "      <td>- Understand the concept of density-based clus...</td>\n",
       "      <td>Main_session</td>\n",
       "      <td></td>\n",
       "      <td></td>\n",
       "      <td>Machine learning models</td>\n",
       "      <td>Step 5: Data Modeling, Step 6: Evaluation</td>\n",
       "    </tr>\n",
       "    <tr>\n",
       "      <th>89</th>\n",
       "      <td>5</td>\n",
       "      <td>2</td>\n",
       "      <td>14/5/2024</td>\n",
       "      <td>2</td>\n",
       "      <td>Model Deployment</td>\n",
       "      <td>Explore the process of deploying machine learn...</td>\n",
       "      <td></td>\n",
       "      <td>- Implement a FastAPI service to serve machine...</td>\n",
       "      <td>Main_session</td>\n",
       "      <td></td>\n",
       "      <td></td>\n",
       "      <td>Software engineering</td>\n",
       "      <td>Step 8: Deploy model</td>\n",
       "    </tr>\n",
       "    <tr>\n",
       "      <th>92</th>\n",
       "      <td>5</td>\n",
       "      <td>3</td>\n",
       "      <td>15/5/2024</td>\n",
       "      <td>2</td>\n",
       "      <td>Data Collecting - Web Scraping</td>\n",
       "      <td>Learn the techniques of web scraping to progra...</td>\n",
       "      <td></td>\n",
       "      <td>- Acquire the skills to use web scraping tools...</td>\n",
       "      <td>Main_session</td>\n",
       "      <td></td>\n",
       "      <td></td>\n",
       "      <td>Programming, Data Storage and Retrieval</td>\n",
       "      <td>Step 2: Data Collection</td>\n",
       "    </tr>\n",
       "    <tr>\n",
       "      <th>94</th>\n",
       "      <td>5</td>\n",
       "      <td>4</td>\n",
       "      <td>16/5/2024</td>\n",
       "      <td>1</td>\n",
       "      <td>Data Collecting - SQL</td>\n",
       "      <td>Understand the fundamentals of using Structure...</td>\n",
       "      <td></td>\n",
       "      <td></td>\n",
       "      <td>Main_session</td>\n",
       "      <td></td>\n",
       "      <td></td>\n",
       "      <td>Programming, Data Storage and Retrieval</td>\n",
       "      <td>Step 2: Data Collection</td>\n",
       "    </tr>\n",
       "    <tr>\n",
       "      <th>97</th>\n",
       "      <td>5</td>\n",
       "      <td>5</td>\n",
       "      <td>17/5/2024</td>\n",
       "      <td>1</td>\n",
       "      <td>Intro to Time series</td>\n",
       "      <td>Explore a statistical approach to analyze time...</td>\n",
       "      <td></td>\n",
       "      <td>- Understand the unique characteristics of tim...</td>\n",
       "      <td>Main_session</td>\n",
       "      <td></td>\n",
       "      <td></td>\n",
       "      <td>Machine learning models</td>\n",
       "      <td>Step 5: Data Modeling, Step 6: Evaluation</td>\n",
       "    </tr>\n",
       "    <tr>\n",
       "      <th>102</th>\n",
       "      <td>6</td>\n",
       "      <td>1</td>\n",
       "      <td>18/5/2024</td>\n",
       "      <td>3</td>\n",
       "      <td>Deep learning fandmental</td>\n",
       "      <td>Gain a solid foundation in deep learning, expl...</td>\n",
       "      <td></td>\n",
       "      <td>- Comprehend the architecture and functioning ...</td>\n",
       "      <td>Main_session</td>\n",
       "      <td></td>\n",
       "      <td></td>\n",
       "      <td>Deep learning</td>\n",
       "      <td>Step 5: Data Modeling, Step 6: Evaluation</td>\n",
       "    </tr>\n",
       "    <tr>\n",
       "      <th>105</th>\n",
       "      <td>6</td>\n",
       "      <td>2</td>\n",
       "      <td>19/5/2024</td>\n",
       "      <td>2</td>\n",
       "      <td>Natural Language Processing (NLP)</td>\n",
       "      <td>Discover the field of NLP, which enables machi...</td>\n",
       "      <td></td>\n",
       "      <td>- Understand the core concepts and challenges ...</td>\n",
       "      <td>Main_session</td>\n",
       "      <td></td>\n",
       "      <td></td>\n",
       "      <td>Natural language processing</td>\n",
       "      <td>Step 5: Data Modeling, Step 6: Evaluation</td>\n",
       "    </tr>\n",
       "    <tr>\n",
       "      <th>107</th>\n",
       "      <td>6</td>\n",
       "      <td>3</td>\n",
       "      <td>20/5/2024</td>\n",
       "      <td>1</td>\n",
       "      <td>Computer Vision</td>\n",
       "      <td>Explore the realm of computer vision, where ma...</td>\n",
       "      <td></td>\n",
       "      <td>- Grasp the principles behind image processing...</td>\n",
       "      <td>Main_session</td>\n",
       "      <td></td>\n",
       "      <td></td>\n",
       "      <td>Computer vision</td>\n",
       "      <td>Step 5: Data Modeling, Step 6: Evaluation</td>\n",
       "    </tr>\n",
       "  </tbody>\n",
       "</table>\n",
       "</div>"
      ],
      "text/plain": [
       "     #Week  #Day       Date  seq  \\\n",
       "2        1     1  21/4/2024    3   \n",
       "7        1     2  22/4/2024    1   \n",
       "11       1     3  23/4/2024    1   \n",
       "17       1     5  25/4/2024    1   \n",
       "23       2     1  28/4/2024    2   \n",
       "27       2     2  29/4/2024    1   \n",
       "32       2     3  30/4/2024    3   \n",
       "35       2     4   1/5/2024    2   \n",
       "38       2     5   2/5/2024    2   \n",
       "42       3     1   3/5/2024    2   \n",
       "46       3     2   4/5/2024    2   \n",
       "51       3     4   6/5/2024    2   \n",
       "53       3     5   7/5/2024    1   \n",
       "54       3     5   7/5/2024    2   \n",
       "55       3     5   7/5/2024    3   \n",
       "60       4     1   8/5/2024    3   \n",
       "61       4     1   8/5/2024    4   \n",
       "62       4     1   8/5/2024    5   \n",
       "65       4     2   9/5/2024    2   \n",
       "66       4     2   9/5/2024    3   \n",
       "69       4     3  10/5/2024    2   \n",
       "71       4     3  10/5/2024    4   \n",
       "74       4     4  11/5/2024    2   \n",
       "76       4     4  11/5/2024    4   \n",
       "79       4     5  12/5/2024    2   \n",
       "80       4     5  12/5/2024    3   \n",
       "85       5     1  13/5/2024    3   \n",
       "86       5     1  13/5/2024    4   \n",
       "89       5     2  14/5/2024    2   \n",
       "92       5     3  15/5/2024    2   \n",
       "94       5     4  16/5/2024    1   \n",
       "97       5     5  17/5/2024    1   \n",
       "102      6     1  18/5/2024    3   \n",
       "105      6     2  19/5/2024    2   \n",
       "107      6     3  20/5/2024    1   \n",
       "\n",
       "                                             Title  \\\n",
       "2                           Intro to data science    \n",
       "7                         Version Control with Git   \n",
       "11                              Python fundamental   \n",
       "17                                           Numpy   \n",
       "23                                          Pandas   \n",
       "27        Intro to Exploratory data analysis (EDA)   \n",
       "32                             Data Visualisation    \n",
       "35                            Intro to Statistics    \n",
       "38                           Multivariate Analysis   \n",
       "42                              Data Communication   \n",
       "46                          Advanced tools for EDA   \n",
       "51                               Data storytelling   \n",
       "53                Intro to machine learning models   \n",
       "54           Regression models - Linear regression   \n",
       "55                            Feature engineering    \n",
       "60                              Model evaluation 1   \n",
       "61                            Model regularization   \n",
       "62   Cross validation and parameters optimization    \n",
       "65    Classification Models - logistic regression    \n",
       "66                              Model evaluation 2   \n",
       "69           Classification Models - Decision tree   \n",
       "71                 Ensamble Models - Random Forest   \n",
       "74                                       SVM model   \n",
       "76                                       Knn model   \n",
       "79                  Intro to unsupervised learning   \n",
       "80                                    Kmeans model   \n",
       "85                              Model evaluation 3   \n",
       "86                                    DBSCAN Model   \n",
       "89                                Model Deployment   \n",
       "92                  Data Collecting - Web Scraping   \n",
       "94                           Data Collecting - SQL   \n",
       "97                           Intro to Time series    \n",
       "102                       Deep learning fandmental   \n",
       "105              Natural Language Processing (NLP)   \n",
       "107                                Computer Vision   \n",
       "\n",
       "                                           Description  \\\n",
       "2    Provide a foundational overview of data scienc...   \n",
       "7    A Beginner's Guide to Version Control and Coll...   \n",
       "11   Explore the core concepts of Python in this fo...   \n",
       "17   This lesson gently guides you through the basi...   \n",
       "23   This lesson introduces the key features of Pan...   \n",
       "27   Dive into the essentials of Exploratory Data A...   \n",
       "32   Explore the various types of data visualizatio...   \n",
       "35     Learn the foundational principles of statistics   \n",
       "38   Dive into the complexities of examining patter...   \n",
       "42   learn how to communicate complex data insights...   \n",
       "46   Explore some advanced tools to perform EDA on ...   \n",
       "51    Explore the art and science of data storytelling   \n",
       "53   Uncover the world of machine learning by explo...   \n",
       "54   Learn a fundamental statistical method for mod...   \n",
       "55   Learn how to enhance your machine learning mod...   \n",
       "60   Discover the critical aspects of evaluating re...   \n",
       "61   Examine regularization techniques that prevent...   \n",
       "62   Master the practices of cross-validation and h...   \n",
       "65   Explore logistic regression, a powerful statis...   \n",
       "66   Discover the critical aspects of evaluating cl...   \n",
       "69   Investigate decision trees, a versatile and in...   \n",
       "71   Explore ensemble learning method that combines...   \n",
       "74   Learn arobust machine learning algorithm used ...   \n",
       "76   Gain insight into the k-Nearest Neighbors (KNN...   \n",
       "79   Dive into unsupervised learning, the class of ...   \n",
       "80   Learn about K-Means, a popular clustering algo...   \n",
       "85   Explore various methods to evaluate the perfor...   \n",
       "86   Investigate Density-Based Spatial Clustering o...   \n",
       "89   Explore the process of deploying machine learn...   \n",
       "92   Learn the techniques of web scraping to progra...   \n",
       "94   Understand the fundamentals of using Structure...   \n",
       "97   Explore a statistical approach to analyze time...   \n",
       "102  Gain a solid foundation in deep learning, expl...   \n",
       "105  Discover the field of NLP, which enables machi...   \n",
       "107  Explore the realm of computer vision, where ma...   \n",
       "\n",
       "                                          More_Details  \\\n",
       "2                                                        \n",
       "7                                                        \n",
       "11                                                       \n",
       "17                                                       \n",
       "23                                                       \n",
       "27                                                       \n",
       "32   when reach part of detecting outliers in data ...   \n",
       "35                                                       \n",
       "38                                                       \n",
       "42   The rest oof data visulization pdf (best pract...   \n",
       "46                                                       \n",
       "51                                                       \n",
       "53                                                       \n",
       "54                                                       \n",
       "55                                                       \n",
       "60                                                       \n",
       "61                                                       \n",
       "62                                                       \n",
       "65                                                       \n",
       "66                                                       \n",
       "69                                                       \n",
       "71                                                       \n",
       "74                                                       \n",
       "76                                                       \n",
       "79                                                       \n",
       "80                                                       \n",
       "85                                                       \n",
       "86                                                       \n",
       "89                                                       \n",
       "92                                                       \n",
       "94                                                       \n",
       "97                                                       \n",
       "102                                                      \n",
       "105                                                      \n",
       "107                                                      \n",
       "\n",
       "                                             Objective          type Link  \\\n",
       "2                                                       Main_session        \n",
       "7    - Understand the basics of Git for version con...  Main_session        \n",
       "11   - Introduce Python syntax and basic programmin...  Main_session        \n",
       "17   - Grasp the fundamentals of NumPy arrays and t...  Main_session        \n",
       "23   - Familiarize yourself with Pandas Series and ...  Main_session        \n",
       "27   - Understand EDA concepts and techniques.\\n- A...  Main_session        \n",
       "32   - Grasp the significance of data visualization...  Main_session        \n",
       "35   - Understand the basic concepts of descriptive...  Main_session        \n",
       "38   - Understand the fundamental principles and me...  Main_session        \n",
       "42   - Understand the principles of effective data ...  Main_session        \n",
       "46                                                      Main_session        \n",
       "51   - Grasp the essentials of data storytelling an...  Main_session        \n",
       "53   - Understand different types of machine learni...  Main_session        \n",
       "54   - Grasp the concept and mathematical foundatio...  Main_session        \n",
       "55   - Understand the importance of feature enginee...  Main_session        \n",
       "60   - Discover different types of evaluation matri...  Main_session        \n",
       "61   - Learn the principles of regularization and i...  Main_session        \n",
       "62   - Utilize cross-validation techniques to asses...  Main_session        \n",
       "65   - Understand the theory and mathematical under...  Main_session        \n",
       "66                                                      Main_session        \n",
       "69   - Comprehend the mechanics of how decision tre...  Main_session        \n",
       "71   - Comprehend how Random Forest aggregates deci...  Main_session        \n",
       "74   - Understand the fundamental concepts of SVM a...  Main_session        \n",
       "76   - Grasp the workings of the KNN algorithm and ...  Main_session        \n",
       "79   - Understand the core concepts and different t...  Main_session        \n",
       "80   - Grasp the principles and algorithmic steps o...  Main_session        \n",
       "85   - Learn to use metrics like silhouette score a...  Main_session        \n",
       "86   - Understand the concept of density-based clus...  Main_session        \n",
       "89   - Implement a FastAPI service to serve machine...  Main_session        \n",
       "92   - Acquire the skills to use web scraping tools...  Main_session        \n",
       "94                                                      Main_session        \n",
       "97   - Understand the unique characteristics of tim...  Main_session        \n",
       "102  - Comprehend the architecture and functioning ...  Main_session        \n",
       "105  - Understand the core concepts and challenges ...  Main_session        \n",
       "107  - Grasp the principles behind image processing...  Main_session        \n",
       "\n",
       "                 Phase                                              Skill  \\\n",
       "2    Preparation Phase                Data Science Methodology & Literacy   \n",
       "7    Preparation Phase                               Software engineering   \n",
       "11   Preparation Phase                                        Programming   \n",
       "17   Preparation Phase  Programming, Data Manipulation and Analysis (w...   \n",
       "23   Preparation Phase  Programming, Data Manipulation and Analysis (w...   \n",
       "27      Usecases Phase  Data Manipulation and Analysis (working with d...   \n",
       "32      Usecases Phase  Data visualization, Data Manipulation and Anal...   \n",
       "35      Usecases Phase  Statistics, Data Manipulation and Analysis (wo...   \n",
       "38      Usecases Phase  Data visualization, Data Manipulation and Anal...   \n",
       "42      Usecases Phase  Data visualization, Data Manipulation and Anal...   \n",
       "46      Usecases Phase  Statistics , Data visualization, Data Manipula...   \n",
       "51      Usecases Phase  Data visualization, Data Manipulation and Anal...   \n",
       "53      Usecases Phase                            Machine learning models   \n",
       "54      Usecases Phase                            Machine learning models   \n",
       "55      Usecases Phase          Data engineering, Machine learning models   \n",
       "60                                                Machine learning models   \n",
       "61                                                Machine learning models   \n",
       "62                                                Machine learning models   \n",
       "65                                                Machine learning models   \n",
       "66                                                Machine learning models   \n",
       "69                                                Machine learning models   \n",
       "71                                                Machine learning models   \n",
       "74                                                Machine learning models   \n",
       "76                                                Machine learning models   \n",
       "79                                                Machine learning models   \n",
       "80                                                Machine learning models   \n",
       "85                                                Machine learning models   \n",
       "86                                                Machine learning models   \n",
       "89                                                   Software engineering   \n",
       "92                                Programming, Data Storage and Retrieval   \n",
       "94                                Programming, Data Storage and Retrieval   \n",
       "97                                                Machine learning models   \n",
       "102                                                         Deep learning   \n",
       "105                                           Natural language processing   \n",
       "107                                                       Computer vision   \n",
       "\n",
       "                                               DS_step  \n",
       "2                     Step 1: Define Problem Statement  \n",
       "7                              Step 8: Deploy a model   \n",
       "11          Step 3: Data Quality Check and Remediation  \n",
       "17   Step 3: Data Quality Check and Remediation, St...  \n",
       "23   Step 3: Data Quality Check and Remediation, St...  \n",
       "27   Step 3: Data Quality Check and Remediation, St...  \n",
       "32   Step 4: Exploratory Data Analysis, Step 7: Dat...  \n",
       "35                   Step 4: Exploratory Data Analysis  \n",
       "38                   Step 4: Exploratory Data Analysis  \n",
       "42   Step 4: Exploratory Data Analysis, Step 7: Dat...  \n",
       "46   Step 3: Data Quality Check and Remediation, St...  \n",
       "51   Step 4: Exploratory Data Analysis, Step 7: Dat...  \n",
       "53                               Step 5: Data Modeling  \n",
       "54                               Step 5: Data Modeling  \n",
       "55                               Step 5: Data Modeling  \n",
       "60           Step 5: Data Modeling, Step 6: Evaluation  \n",
       "61           Step 5: Data Modeling, Step 6: Evaluation  \n",
       "62           Step 5: Data Modeling, Step 6: Evaluation  \n",
       "65           Step 5: Data Modeling, Step 6: Evaluation  \n",
       "66           Step 5: Data Modeling, Step 6: Evaluation  \n",
       "69           Step 5: Data Modeling, Step 6: Evaluation  \n",
       "71           Step 5: Data Modeling, Step 6: Evaluation  \n",
       "74           Step 5: Data Modeling, Step 6: Evaluation  \n",
       "76           Step 5: Data Modeling, Step 6: Evaluation  \n",
       "79           Step 5: Data Modeling, Step 6: Evaluation  \n",
       "80           Step 5: Data Modeling, Step 6: Evaluation  \n",
       "85           Step 5: Data Modeling, Step 6: Evaluation  \n",
       "86           Step 5: Data Modeling, Step 6: Evaluation  \n",
       "89                                Step 8: Deploy model  \n",
       "92                             Step 2: Data Collection  \n",
       "94                             Step 2: Data Collection  \n",
       "97           Step 5: Data Modeling, Step 6: Evaluation  \n",
       "102          Step 5: Data Modeling, Step 6: Evaluation  \n",
       "105          Step 5: Data Modeling, Step 6: Evaluation  \n",
       "107          Step 5: Data Modeling, Step 6: Evaluation  "
      ]
     },
     "execution_count": 33,
     "metadata": {},
     "output_type": "execute_result"
    }
   ],
   "source": [
    "df[df['type'] == 'Main_session']"
   ]
  },
  {
   "cell_type": "code",
   "execution_count": 28,
   "id": "0ce95690-f741-410f-a4f0-f16a44be33ab",
   "metadata": {},
   "outputs": [
    {
     "data": {
      "text/plain": [
       "[((1, 1, '4/21/2024'),\n",
       "     #Week  #Day       Date  seq                         Title  \\\n",
       "  0      1     1  4/21/2024    1             Intro to bootcamp   \n",
       "  1      1     1  4/21/2024    2          ice-breaker exercise   \n",
       "  2      1     1  4/21/2024    3        Intro to data science    \n",
       "  3      1     1  4/21/2024    4   Data proficiency evaluation   \n",
       "  4      1     1  4/21/2024    5      Student Information Form   \n",
       "  5      1     1  4/21/2024    6                 Class Roadmap   \n",
       "  6      1     1  4/21/2024    7  Setup and Installation Guide   \n",
       "  \n",
       "                                           Description More_Details Objective  \\\n",
       "  0  \\n- Welcome from the Instructors\\n- Bootcamp O...                          \n",
       "  1  To warm up the atmosphere and encourage partic...   Names tags             \n",
       "  2  Provide a foundational overview of data scienc...                          \n",
       "  3  An evaluation crafted to determine a student's...                          \n",
       "  4                                                                             \n",
       "  5  Roadmap offers a clear and comprehensive guide...                          \n",
       "  6  A guide provides an overview of essential tool...                          \n",
       "  \n",
       "             type Link              Phase                                Skill  \\\n",
       "  0  Side_session       Preparation Phase                                    -   \n",
       "  1      Activity       Preparation Phase                          Soft Skills   \n",
       "  2  Main_session       Preparation Phase  Data Science Methodology & Literacy   \n",
       "  3    Assessment       Preparation Phase  Data Science Methodology & Literacy   \n",
       "  4  Side_session       Preparation Phase                                    -   \n",
       "  5  Side_session       Preparation Phase                                    -   \n",
       "  6  Side_session       Preparation Phase                 Software engineering   \n",
       "  \n",
       "                              DS_step  \n",
       "  0                                    \n",
       "  1                                    \n",
       "  2  Step 1: Define Problem Statement  \n",
       "  3                                    \n",
       "  4                                    \n",
       "  5                                    \n",
       "  6                                    ),\n",
       " ((1, 2, '4/22/2024'),\n",
       "      #Week  #Day       Date  seq                     Title  \\\n",
       "  7       1     2  4/22/2024    1  Version Control with Git   \n",
       "  8       1     2  4/22/2024    2          Hands-on Session   \n",
       "  9       1     2  4/22/2024    3      Interactive activity   \n",
       "  10      1     2  4/22/2024    4                       Lab   \n",
       "  \n",
       "                                            Description More_Details  \\\n",
       "  7   A Beginner's Guide to Version Control and Coll...                \n",
       "  8   Students will apply the concepts and technique...                \n",
       "  9   Involves dynamic engagement where students par...                \n",
       "  10  Provides a controlled environment where studen...                \n",
       "  \n",
       "                                              Objective              type Link  \\\n",
       "  7   - Understand the basics of Git for version con...      Main_session        \n",
       "  8                                                      Hands-on_Session        \n",
       "  9                                                              Activity        \n",
       "  10                                                                  Lab        \n",
       "  \n",
       "                  Phase                 Skill                  DS_step  \n",
       "  7   Preparation Phase  Software engineering  Step 8: Deploy a model   \n",
       "  8   Preparation Phase  Software engineering  Step 8: Deploy a model   \n",
       "  9   Preparation Phase  Software engineering  Step 8: Deploy a model   \n",
       "  10  Preparation Phase  Software engineering  Step 8: Deploy a model   ),\n",
       " ((1, 3, '4/23/2024'),\n",
       "      #Week  #Day       Date  seq                 Title  \\\n",
       "  11      1     3  4/23/2024    1    Python fundamental   \n",
       "  12      1     3  4/23/2024    2      Hands-on Session   \n",
       "  13      1     3  4/23/2024    3  Interactive activity   \n",
       "  14      1     3  4/23/2024    4                   Lab   \n",
       "  \n",
       "                                            Description More_Details  \\\n",
       "  11  Explore the core concepts of Python in this fo...                \n",
       "  12                                                                   \n",
       "  13                                                                   \n",
       "  14                                                                   \n",
       "  \n",
       "                                              Objective              type Link  \\\n",
       "  11  - Introduce Python syntax and basic programmin...      Main_session        \n",
       "  12                                                     Hands-on_Session        \n",
       "  13                                                             Activity        \n",
       "  14                                                                  Lab        \n",
       "  \n",
       "                  Phase        Skill                                     DS_step  \n",
       "  11  Preparation Phase  Programming  Step 3: Data Quality Check and Remediation  \n",
       "  12  Preparation Phase  Programming  Step 3: Data Quality Check and Remediation  \n",
       "  13  Preparation Phase  Programming  Step 3: Data Quality Check and Remediation  \n",
       "  14  Preparation Phase  Programming  Step 3: Data Quality Check and Remediation  ),\n",
       " ((1, 4, '4/24/2024'),\n",
       "      #Week  #Day       Date  seq           Title  \\\n",
       "  15      1     4  4/24/2024    1  Python Usecase   \n",
       "  16      1     4  4/24/2024    2             Lab   \n",
       "  \n",
       "                                            Description More_Details  \\\n",
       "  15  Build a strong base for advanced programming w...                \n",
       "  16                                                                   \n",
       "  \n",
       "                                              Objective     type Link  \\\n",
       "  15  - Apply practical coding exercises to reinforc...  Usecase        \n",
       "  16                                                         Lab        \n",
       "  \n",
       "                  Phase        Skill                                     DS_step  \n",
       "  15  Preparation Phase  Programming  Step 3: Data Quality Check and Remediation  \n",
       "  16  Preparation Phase  Programming  Step 3: Data Quality Check and Remediation  ),\n",
       " ((1, 5, '4/25/2024'),\n",
       "      #Week  #Day       Date  seq                    Title  \\\n",
       "  17      1     5  4/25/2024    1                    Numpy   \n",
       "  18      1     5  4/25/2024    2         Hands-on Session   \n",
       "  19      1     5  4/25/2024    3     Interactive activity   \n",
       "  20      1     5  4/25/2024    4                      Lab   \n",
       "  21      1     5  4/25/2024    5  Project 1 introduction    \n",
       "  \n",
       "                                            Description More_Details  \\\n",
       "  17  This lesson gently guides you through the basi...                \n",
       "  18                                                                   \n",
       "  19                                                                   \n",
       "  20                                                                   \n",
       "  21                                                TBD                \n",
       "  \n",
       "                                              Objective               type Link  \\\n",
       "  17  - Grasp the fundamentals of NumPy arrays and t...       Main_session        \n",
       "  18                                                      Hands-on_Session        \n",
       "  19                                                              Activity        \n",
       "  20                                                                   Lab        \n",
       "  21                                                TBD  Usecase - Project        \n",
       "  \n",
       "                  Phase                                              Skill  \\\n",
       "  17  Preparation Phase  Programming, Data Manipulation and Analysis (w...   \n",
       "  18  Preparation Phase  Programming, Data Manipulation and Analysis (w...   \n",
       "  19  Preparation Phase  Programming, Data Manipulation and Analysis (w...   \n",
       "  20  Preparation Phase  Programming, Data Manipulation and Analysis (w...   \n",
       "  21  Preparation Phase                                        Programming   \n",
       "  \n",
       "                                                DS_step  \n",
       "  17  Step 3: Data Quality Check and Remediation, St...  \n",
       "  18  Step 3: Data Quality Check and Remediation, St...  \n",
       "  19  Step 3: Data Quality Check and Remediation, St...  \n",
       "  20  Step 3: Data Quality Check and Remediation, St...  \n",
       "  21         Step 3: Data Quality Check and Remediation  ),\n",
       " ((2, 1, '4/28/2024'),\n",
       "      #Week  #Day       Date  seq                 Title  \\\n",
       "  22      2     1  4/28/2024    1      Project 1 review   \n",
       "  23      2     1  4/28/2024    2                Pandas   \n",
       "  24      2     1  4/28/2024    3      Hands-on Session   \n",
       "  25      2     1  4/28/2024    4  Interactive activity   \n",
       "  26      2     1  4/28/2024    5                   Lab   \n",
       "  \n",
       "                                            Description  \\\n",
       "  22                                                      \n",
       "  23  This lesson introduces the key features of Pan...   \n",
       "  24                                                      \n",
       "  25                                                      \n",
       "  26                                                      \n",
       "  \n",
       "                                           More_Details  \\\n",
       "  22                                                      \n",
       "  23                                                      \n",
       "  24  join , concat , filter - mask , map , apply , ...   \n",
       "  25                                                      \n",
       "  26                                                      \n",
       "  \n",
       "                                              Objective               type Link  \\\n",
       "  22                                                     Usecase - Project        \n",
       "  23  - Familiarize yourself with Pandas Series and ...       Main_session        \n",
       "  24                                                      Hands-on_Session        \n",
       "  25                                                              Activity        \n",
       "  26                                                                   Lab        \n",
       "  \n",
       "                  Phase                                              Skill  \\\n",
       "  22  Preparation Phase                                        Programming   \n",
       "  23  Preparation Phase  Programming, Data Manipulation and Analysis (w...   \n",
       "  24  Preparation Phase  Programming, Data Manipulation and Analysis (w...   \n",
       "  25  Preparation Phase  Programming, Data Manipulation and Analysis (w...   \n",
       "  26  Preparation Phase  Programming, Data Manipulation and Analysis (w...   \n",
       "  \n",
       "                                                DS_step  \n",
       "  22         Step 3: Data Quality Check and Remediation  \n",
       "  23  Step 3: Data Quality Check and Remediation, St...  \n",
       "  24  Step 3: Data Quality Check and Remediation, St...  \n",
       "  25  Step 3: Data Quality Check and Remediation, St...  \n",
       "  26  Step 3: Data Quality Check and Remediation, St...  ),\n",
       " ((2, 2, '4/29/2024'),\n",
       "      #Week  #Day       Date  seq                                     Title  \\\n",
       "  27      2     2  4/29/2024    1  Intro to Exploratory data analysis (EDA)   \n",
       "  28      2     2  4/29/2024    2                                Usecase 1    \n",
       "  29      2     2  4/29/2024    3                           Usecase 2 - Lab   \n",
       "  \n",
       "                                            Description More_Details  \\\n",
       "  27  Dive into the essentials of Exploratory Data A...                \n",
       "  28  Conduct hands-on EDA (Data Profiling and Clean...                \n",
       "  29                                                                   \n",
       "  \n",
       "                                              Objective           type Link  \\\n",
       "  27  - Understand EDA concepts and techniques.\\n- A...   Main_session        \n",
       "  28                                                           Usecase        \n",
       "  29                                                     Usecase - Lab        \n",
       "  \n",
       "               Phase                                              Skill  \\\n",
       "  27  Usecases Phase  Data Manipulation and Analysis (working with d...   \n",
       "  28  Usecases Phase  Data Manipulation and Analysis (working with d...   \n",
       "  29  Usecases Phase  Data Manipulation and Analysis (working with d...   \n",
       "  \n",
       "                                                DS_step  \n",
       "  27  Step 3: Data Quality Check and Remediation, St...  \n",
       "  28  Step 1: Define Problem Statement, Step 3: Data...  \n",
       "  29  Step 1: Define Problem Statement, Step 3: Data...  ),\n",
       " ((2, 3, '4/30/2024'),\n",
       "      #Week  #Day       Date  seq                   Title  \\\n",
       "  30      2     3  4/30/2024    1              Usecase 1    \n",
       "  31      2     3  4/30/2024    2  Usecase 2 - Lab review   \n",
       "  32      2     3  4/30/2024    3     Data Visualisation    \n",
       "  33      2     3  4/30/2024    4              Usecase 1    \n",
       "  \n",
       "                                            Description  \\\n",
       "  30  Conduct hands-on EDA (Data Profiling and Clean...   \n",
       "  31  Review EDA (Data Profiling and Cleaning)  process   \n",
       "  32  Explore the various types of data visualizatio...   \n",
       "  33  Conduct hands-on EDA (Univariate Graphical Ana...   \n",
       "  \n",
       "                                           More_Details  \\\n",
       "  30                                                      \n",
       "  31                                                      \n",
       "  32  when reach part of detecting outliers in data ...   \n",
       "  33                                                      \n",
       "  \n",
       "                                              Objective           type Link  \\\n",
       "  30                                                           Usecase        \n",
       "  31                                                     Usecase - Lab        \n",
       "  32  - Grasp the significance of data visualization...   Main_session        \n",
       "  33                                                           Usecase        \n",
       "  \n",
       "               Phase                                              Skill  \\\n",
       "  30  Usecases Phase  Data Manipulation and Analysis (working with d...   \n",
       "  31  Usecases Phase  Data Manipulation and Analysis (working with d...   \n",
       "  32  Usecases Phase  Data visualization, Data Manipulation and Anal...   \n",
       "  33  Usecases Phase  Data visualization, Data Manipulation and Anal...   \n",
       "  \n",
       "                                                DS_step  \n",
       "  30  Step 3: Data Quality Check and Remediation, St...  \n",
       "  31  Step 3: Data Quality Check and Remediation, St...  \n",
       "  32  Step 4: Exploratory Data Analysis, Step 7: Dat...  \n",
       "  33  Step 4: Exploratory Data Analysis, Step 7: Dat...  ),\n",
       " ((2, 4, '5/1/2024'),\n",
       "      #Week  #Day      Date  seq                   Title  \\\n",
       "  34      2     4  5/1/2024    1  Usecase 2 - Lab review   \n",
       "  35      2     4  5/1/2024    2    Intro to Statistics    \n",
       "  36      2     4  5/1/2024    3              Usecase 1    \n",
       "  \n",
       "                                            Description More_Details  \\\n",
       "  34                                                                   \n",
       "  35    Learn the foundational principles of statistics                \n",
       "  36  Conduct hands-on EDA (Univariate Non Graphical...                \n",
       "  \n",
       "                                              Objective           type Link  \\\n",
       "  34                                                     Usecase - Lab        \n",
       "  35  - Understand the basic concepts of descriptive...   Main_session        \n",
       "  36                                                           Usecase        \n",
       "  \n",
       "               Phase                                              Skill  \\\n",
       "  34  Usecases Phase  Data visualization, Data Manipulation and Anal...   \n",
       "  35  Usecases Phase  Statistics, Data Manipulation and Analysis (wo...   \n",
       "  36  Usecases Phase  Statistics, Data Manipulation and Analysis (wo...   \n",
       "  \n",
       "                                                DS_step  \n",
       "  34  Step 4: Exploratory Data Analysis, Step 7: Dat...  \n",
       "  35                  Step 4: Exploratory Data Analysis  \n",
       "  36                  Step 4: Exploratory Data Analysis  ),\n",
       " ((2, 5, '5/2/2024'),\n",
       "      #Week  #Day      Date  seq                                Title  \\\n",
       "  37      2     5  5/2/2024    1               Usecase 2 - Lab review   \n",
       "  38      2     5  5/2/2024    2                Multivariate Analysis   \n",
       "  39      2     5  5/2/2024    3                           Usecase 1    \n",
       "  40      2     5  5/2/2024    4  Usecase 3 - Project 2 introduction    \n",
       "  \n",
       "                                            Description    More_Details  \\\n",
       "  37                                                                      \n",
       "  38  Dive into the complexities of examining patter...                   \n",
       "  39  Conduct hands-on EDA (Multivariate Analysis) w...  Statistics 2+    \n",
       "  40                                                                      \n",
       "  \n",
       "                                              Objective               type Link  \\\n",
       "  37                                                         Usecase - Lab        \n",
       "  38  - Understand the fundamental principles and me...       Main_session        \n",
       "  39                                                               Usecase        \n",
       "  40                                                     Usecase - Project        \n",
       "  \n",
       "               Phase                                              Skill  \\\n",
       "  37  Usecases Phase  Statistics, Data Manipulation and Analysis (wo...   \n",
       "  38  Usecases Phase  Data visualization, Data Manipulation and Anal...   \n",
       "  39  Usecases Phase  Data visualization, Data Manipulation and Anal...   \n",
       "  40  Usecases Phase  Statistics , Data visualization, Data Manipula...   \n",
       "  \n",
       "                                                DS_step  \n",
       "  37                  Step 4: Exploratory Data Analysis  \n",
       "  38                  Step 4: Exploratory Data Analysis  \n",
       "  39                  Step 4: Exploratory Data Analysis  \n",
       "  40  Step 1: Define Problem Statement, Step 3: Data...  ),\n",
       " ((3, 1, '5/3/2024'),\n",
       "      #Week  #Day      Date  seq                          Title  \\\n",
       "  41      3     1  5/3/2024    1  Usecase 3 - Project 2 review    \n",
       "  42      3     1  5/3/2024    2             Data Communication   \n",
       "  43      3     1  5/3/2024    3                     Usecase 1    \n",
       "  44      3     1  5/3/2024    4         Usecase 2 - Lab review   \n",
       "  \n",
       "                                            Description  \\\n",
       "  41                                                      \n",
       "  42  learn how to communicate complex data insights...   \n",
       "  43  Conduct hands-on EDA (Data Communications & An...   \n",
       "  44                                                      \n",
       "  \n",
       "                                           More_Details  \\\n",
       "  41                                                      \n",
       "  42  The rest oof data visulization pdf (best pract...   \n",
       "  43                                                      \n",
       "  44                                                      \n",
       "  \n",
       "                                              Objective               type Link  \\\n",
       "  41                                                     Usecase - Project        \n",
       "  42  - Understand the principles of effective data ...       Main_session        \n",
       "  43                                                               Usecase        \n",
       "  44                                                         Usecase - Lab        \n",
       "  \n",
       "               Phase                                              Skill  \\\n",
       "  41  Usecases Phase  Statistics , Data visualization, Data Manipula...   \n",
       "  42  Usecases Phase  Data visualization, Data Manipulation and Anal...   \n",
       "  43  Usecases Phase  Data visualization, Data Manipulation and Anal...   \n",
       "  44  Usecases Phase  Data visualization, Data Manipulation and Anal...   \n",
       "  \n",
       "                                                DS_step  \n",
       "  41  Step 1: Define Problem Statement, Step 3: Data...  \n",
       "  42  Step 4: Exploratory Data Analysis, Step 7: Dat...  \n",
       "  43  Step 4: Exploratory Data Analysis, Step 7: Dat...  \n",
       "  44                  Step 4: Exploratory Data Analysis  ),\n",
       " ((3, 2, '5/4/2024'),\n",
       "      #Week  #Day      Date  seq                   Title  \\\n",
       "  45      3     2  5/4/2024    1  Usecase 5 - Lab review   \n",
       "  46      3     2  5/4/2024    2  Advanced tools for EDA   \n",
       "  47      3     2  5/4/2024    3               Usecase 4   \n",
       "  \n",
       "                                            Description    More_Details  \\\n",
       "  45                                                                      \n",
       "  46  Explore some advanced tools to perform EDA on ...                   \n",
       "  47            Conduct hands-on EDA with real datasets  Apply one tool   \n",
       "  \n",
       "     Objective           type Link           Phase  \\\n",
       "  45            Usecase - Lab       Usecases Phase   \n",
       "  46             Main_session       Usecases Phase   \n",
       "  47                  Usecase       Usecases Phase   \n",
       "  \n",
       "                                                  Skill  \\\n",
       "  45  Statistics , Data visualization, Data Manipula...   \n",
       "  46  Statistics , Data visualization, Data Manipula...   \n",
       "  47  Statistics , Data visualization, Data Manipula...   \n",
       "  \n",
       "                                                DS_step  \n",
       "  45  Step 1: Define Problem Statement, Step 3: Data...  \n",
       "  46  Step 3: Data Quality Check and Remediation, St...  \n",
       "  47  Step 1: Define Problem Statement, Step 3: Data...  ),\n",
       " ((3, 3, '5/5/2024'),\n",
       "      #Week  #Day      Date  seq                   Title  \\\n",
       "  48      3     3  5/5/2024    1  Usecase 5 - Lab review   \n",
       "  49      3     3  5/5/2024    2               Usecase 4   \n",
       "  \n",
       "                                  Description More_Details Objective  \\\n",
       "  48                                                                   \n",
       "  49  Conduct hands-on EDA with real datasets                          \n",
       "  \n",
       "               type Link           Phase  \\\n",
       "  48  Usecase - Lab       Usecases Phase   \n",
       "  49        Usecase       Usecases Phase   \n",
       "  \n",
       "                                                  Skill  \\\n",
       "  48  Statistics , Data visualization, Data Manipula...   \n",
       "  49  Statistics , Data visualization, Data Manipula...   \n",
       "  \n",
       "                                                DS_step  \n",
       "  48  Step 1: Define Problem Statement, Step 3: Data...  \n",
       "  49  Step 1: Define Problem Statement, Step 3: Data...  ),\n",
       " ((3, 4, '5/6/2024'),\n",
       "      #Week  #Day      Date  seq                   Title  \\\n",
       "  50      3     4  5/6/2024    1  Usecase 5 - Lab review   \n",
       "  51      3     4  5/6/2024    2       Data storytelling   \n",
       "  52      3     4  5/6/2024    3               Usecase 4   \n",
       "  \n",
       "                                            Description More_Details  \\\n",
       "  50                                                                   \n",
       "  51   Explore the art and science of data storytelling                \n",
       "  52  Conduct hands-on EDA (Data Storytelling) with ...                \n",
       "  \n",
       "                                              Objective           type Link  \\\n",
       "  50                                                     Usecase - Lab        \n",
       "  51  - Grasp the essentials of data storytelling an...   Main_session        \n",
       "  52                                                           Usecase        \n",
       "  \n",
       "               Phase                                              Skill  \\\n",
       "  50  Usecases Phase  Statistics , Data visualization, Data Manipula...   \n",
       "  51  Usecases Phase  Data visualization, Data Manipulation and Anal...   \n",
       "  52  Usecases Phase  Data visualization, Data Manipulation and Anal...   \n",
       "  \n",
       "                                                DS_step  \n",
       "  50  Step 1: Define Problem Statement, Step 3: Data...  \n",
       "  51  Step 4: Exploratory Data Analysis, Step 7: Dat...  \n",
       "  52  Step 4: Exploratory Data Analysis, Step 7: Dat...  ),\n",
       " ((3, 5, '5/7/2024'),\n",
       "      #Week  #Day      Date  seq                                  Title  \\\n",
       "  53      3     5  5/7/2024    1       Intro to machine learning models   \n",
       "  54      3     5  5/7/2024    2  Regression models - Linear regression   \n",
       "  55      3     5  5/7/2024    3                   Feature engineering    \n",
       "  56      3     5  5/7/2024    4                            Usecase 4.1   \n",
       "  57      3     5  5/7/2024    5    Usecase 6 - Project 3 introduction    \n",
       "  \n",
       "                                            Description More_Details  \\\n",
       "  53  Uncover the world of machine learning by explo...                \n",
       "  54  Learn a fundamental statistical method for mod...                \n",
       "  55  Learn how to enhance your machine learning mod...                \n",
       "  56  Conduct hands-on Linear regression and feature...                \n",
       "  57                                                                   \n",
       "  \n",
       "                                              Objective               type Link  \\\n",
       "  53  - Understand different types of machine learni...       Main_session        \n",
       "  54  - Grasp the concept and mathematical foundatio...       Main_session        \n",
       "  55  - Understand the importance of feature enginee...       Main_session        \n",
       "  56                                                               Usecase        \n",
       "  57                                                     Usecase - Project        \n",
       "  \n",
       "               Phase                                              Skill  \\\n",
       "  53  Usecases Phase                            Machine learning models   \n",
       "  54  Usecases Phase                            Machine learning models   \n",
       "  55  Usecases Phase          Data engineering, Machine learning models   \n",
       "  56  Usecases Phase          Data engineering, Machine learning models   \n",
       "  57  Usecases Phase  Statistics , Data visualization, Data Manipula...   \n",
       "  \n",
       "                                                DS_step  \n",
       "  53                              Step 5: Data Modeling  \n",
       "  54                              Step 5: Data Modeling  \n",
       "  55                              Step 5: Data Modeling  \n",
       "  56                              Step 5: Data Modeling  \n",
       "  57  Step 1: Define Problem Statement, Step 3: Data...  ),\n",
       " ((4, 1, '5/8/2024'),\n",
       "      #Week  #Day      Date  seq                                          Title  \\\n",
       "  58      4     1  5/8/2024    1                   Usecase 6 - Project 3 review   \n",
       "  59      4     1  5/8/2024    2                         Usecase 7 - Lab review   \n",
       "  60      4     1  5/8/2024    3                             Model evaluation 1   \n",
       "  61      4     1  5/8/2024    4                           Model regularization   \n",
       "  62      4     1  5/8/2024    5  Cross validation and parameters optimization    \n",
       "  63      4     1  5/8/2024    6                                    Usecase 4.1   \n",
       "  \n",
       "                                            Description More_Details  \\\n",
       "  58                                                                   \n",
       "  59                                                                   \n",
       "  60  Discover the critical aspects of evaluating re...                \n",
       "  61  Examine regularization techniques that prevent...                \n",
       "  62  Master the practices of cross-validation and h...                \n",
       "  63  Conduct hands-on (Model evaluation, Regulariza...                \n",
       "  \n",
       "                                              Objective               type Link  \\\n",
       "  58                                                     Usecase - Project        \n",
       "  59                                                         Usecase - Lab        \n",
       "  60  - Discover different types of evaluation matri...       Main_session        \n",
       "  61  - Learn the principles of regularization and i...       Main_session        \n",
       "  62  - Utilize cross-validation techniques to asses...       Main_session        \n",
       "  63                                                               Usecase        \n",
       "  \n",
       "               Phase                                              Skill  \\\n",
       "  58  Usecases Phase  Statistics , Data visualization, Data Manipula...   \n",
       "  59                          Data engineering, Machine learning models   \n",
       "  60                                            Machine learning models   \n",
       "  61                                            Machine learning models   \n",
       "  62                                            Machine learning models   \n",
       "  63                                            Machine learning models   \n",
       "  \n",
       "                                                DS_step  \n",
       "  58  Step 1: Define Problem Statement, Step 3: Data...  \n",
       "  59                              Step 5: Data Modeling  \n",
       "  60          Step 5: Data Modeling, Step 6: Evaluation  \n",
       "  61          Step 5: Data Modeling, Step 6: Evaluation  \n",
       "  62          Step 5: Data Modeling, Step 6: Evaluation  \n",
       "  63          Step 5: Data Modeling, Step 6: Evaluation  ),\n",
       " ((4, 2, '5/9/2024'),\n",
       "      #Week  #Day      Date  seq                                         Title  \\\n",
       "  64      4     2  5/9/2024    1                        Usecase 7 - Lab review   \n",
       "  65      4     2  5/9/2024    2  Classification Models - logistic regression    \n",
       "  66      4     2  5/9/2024    3                            Model evaluation 2   \n",
       "  67      4     2  5/9/2024    4                                   Usecase 4.2   \n",
       "  \n",
       "                                            Description More_Details  \\\n",
       "  64                                                                   \n",
       "  65  Explore logistic regression, a powerful statis...                \n",
       "  66  Discover the critical aspects of evaluating cl...                \n",
       "  67                                                                   \n",
       "  \n",
       "                                              Objective           type Link  \\\n",
       "  64                                                     Usecase - Lab        \n",
       "  65  - Understand the theory and mathematical under...   Main_session        \n",
       "  66                                                      Main_session        \n",
       "  67                                                           Usecase        \n",
       "  \n",
       "     Phase                    Skill                                    DS_step  \n",
       "  64        Machine learning models  Step 5: Data Modeling, Step 6: Evaluation  \n",
       "  65        Machine learning models  Step 5: Data Modeling, Step 6: Evaluation  \n",
       "  66        Machine learning models  Step 5: Data Modeling, Step 6: Evaluation  \n",
       "  67        Machine learning models  Step 5: Data Modeling, Step 6: Evaluation  ),\n",
       " ((4, 3, '5/10/2024'),\n",
       "      #Week  #Day       Date  seq                                  Title  \\\n",
       "  68      4     3  5/10/2024    1               Usecase 7.1 - Lab review   \n",
       "  69      4     3  5/10/2024    2  Classification Models - Decision tree   \n",
       "  70      4     3  5/10/2024    3                            Usecase 4.2   \n",
       "  71      4     3  5/10/2024    4        Ensamble Models - Random Forest   \n",
       "  72      4     3  5/10/2024    5                            Usecase 4.2   \n",
       "  \n",
       "                                            Description More_Details  \\\n",
       "  68                                                                   \n",
       "  69  Investigate decision trees, a versatile and in...                \n",
       "  70                                                                   \n",
       "  71  Explore ensemble learning method that combines...                \n",
       "  72                                                                   \n",
       "  \n",
       "                                              Objective           type Link  \\\n",
       "  68                                                     Usecase - Lab        \n",
       "  69  - Comprehend the mechanics of how decision tre...   Main_session        \n",
       "  70                                                           Usecase        \n",
       "  71  - Comprehend how Random Forest aggregates deci...   Main_session        \n",
       "  72                                                           Usecase        \n",
       "  \n",
       "     Phase                    Skill                                    DS_step  \n",
       "  68        Machine learning models  Step 5: Data Modeling, Step 6: Evaluation  \n",
       "  69        Machine learning models  Step 5: Data Modeling, Step 6: Evaluation  \n",
       "  70        Machine learning models  Step 5: Data Modeling, Step 6: Evaluation  \n",
       "  71        Machine learning models  Step 5: Data Modeling, Step 6: Evaluation  \n",
       "  72        Machine learning models  Step 5: Data Modeling, Step 6: Evaluation  ),\n",
       " ((4, 4, '5/11/2024'),\n",
       "      #Week  #Day       Date  seq                     Title  \\\n",
       "  73      4     4  5/11/2024    1  Usecase 7.1 - Lab review   \n",
       "  74      4     4  5/11/2024    2                 SVM model   \n",
       "  75      4     4  5/11/2024    3               Usecase 4.2   \n",
       "  76      4     4  5/11/2024    4                 Knn model   \n",
       "  77      4     4  5/11/2024    5               Usecase 4.2   \n",
       "  \n",
       "                                            Description More_Details  \\\n",
       "  73                                                                   \n",
       "  74  Learn arobust machine learning algorithm used ...                \n",
       "  75                                                                   \n",
       "  76  Gain insight into the k-Nearest Neighbors (KNN...                \n",
       "  77                                                                   \n",
       "  \n",
       "                                              Objective           type Link  \\\n",
       "  73                                                     Usecase - Lab        \n",
       "  74  - Understand the fundamental concepts of SVM a...   Main_session        \n",
       "  75                                                           Usecase        \n",
       "  76  - Grasp the workings of the KNN algorithm and ...   Main_session        \n",
       "  77                                                           Usecase        \n",
       "  \n",
       "     Phase                    Skill                                    DS_step  \n",
       "  73        Machine learning models  Step 5: Data Modeling, Step 6: Evaluation  \n",
       "  74        Machine learning models  Step 5: Data Modeling, Step 6: Evaluation  \n",
       "  75        Machine learning models  Step 5: Data Modeling, Step 6: Evaluation  \n",
       "  76        Machine learning models  Step 5: Data Modeling, Step 6: Evaluation  \n",
       "  77        Machine learning models  Step 5: Data Modeling, Step 6: Evaluation  ),\n",
       " ((4, 5, '5/12/2024'),\n",
       "      #Week  #Day       Date  seq                                  Title  \\\n",
       "  78      4     5  5/12/2024    1               Usecase 7.1 - Lab review   \n",
       "  79      4     5  5/12/2024    2         Intro to unsupervised learning   \n",
       "  80      4     5  5/12/2024    3                           Kmeans model   \n",
       "  81      4     5  5/12/2024    4                            Usecase 4.3   \n",
       "  82      4     5  5/12/2024    5  Usecase 6.1 - Project 4 introduction    \n",
       "  \n",
       "                                            Description More_Details  \\\n",
       "  78                                                                   \n",
       "  79  Dive into unsupervised learning, the class of ...                \n",
       "  80  Learn about K-Means, a popular clustering algo...                \n",
       "  81                                                                   \n",
       "  82                                                                   \n",
       "  \n",
       "                                              Objective               type Link  \\\n",
       "  78                                                         Usecase - Lab        \n",
       "  79  - Understand the core concepts and different t...       Main_session        \n",
       "  80  - Grasp the principles and algorithmic steps o...       Main_session        \n",
       "  81                                                               Usecase        \n",
       "  82                                                     Usecase - Project        \n",
       "  \n",
       "     Phase                    Skill                                    DS_step  \n",
       "  78        Machine learning models  Step 5: Data Modeling, Step 6: Evaluation  \n",
       "  79        Machine learning models  Step 5: Data Modeling, Step 6: Evaluation  \n",
       "  80        Machine learning models  Step 5: Data Modeling, Step 6: Evaluation  \n",
       "  81        Machine learning models  Step 5: Data Modeling, Step 6: Evaluation  \n",
       "  82        Machine learning models  Step 5: Data Modeling, Step 6: Evaluation  ),\n",
       " ((5, 1, '5/13/2024'),\n",
       "      #Week  #Day       Date  seq                           Title  \\\n",
       "  83      5     1  5/13/2024    1  Usecase 6.1 - Project 4 review   \n",
       "  84      5     1  5/13/2024    2        Usecase 7.2 - Lab review   \n",
       "  85      5     1  5/13/2024    3              Model evaluation 3   \n",
       "  86      5     1  5/13/2024    4                    DBSCAN Model   \n",
       "  87      5     1  5/13/2024    5                     Usecase 4.3   \n",
       "  \n",
       "                                            Description More_Details  \\\n",
       "  83                                                                   \n",
       "  84                                                                   \n",
       "  85  Explore various methods to evaluate the perfor...                \n",
       "  86  Investigate Density-Based Spatial Clustering o...                \n",
       "  87                                                                   \n",
       "  \n",
       "                                              Objective               type Link  \\\n",
       "  83                                                     Usecase - Project        \n",
       "  84                                                         Usecase - Lab        \n",
       "  85  - Learn to use metrics like silhouette score a...       Main_session        \n",
       "  86  - Understand the concept of density-based clus...       Main_session        \n",
       "  87                                                               Usecase        \n",
       "  \n",
       "     Phase                    Skill                                    DS_step  \n",
       "  83        Machine learning models  Step 5: Data Modeling, Step 6: Evaluation  \n",
       "  84        Machine learning models  Step 5: Data Modeling, Step 6: Evaluation  \n",
       "  85        Machine learning models  Step 5: Data Modeling, Step 6: Evaluation  \n",
       "  86        Machine learning models  Step 5: Data Modeling, Step 6: Evaluation  \n",
       "  87        Machine learning models  Step 5: Data Modeling, Step 6: Evaluation  ),\n",
       " ((5, 2, '5/14/2024'),\n",
       "      #Week  #Day       Date  seq                     Title  \\\n",
       "  88      5     2  5/14/2024    1  Usecase 7.2 - Lab review   \n",
       "  89      5     2  5/14/2024    2          Model Deployment   \n",
       "  90      5     2  5/14/2024    3               Usecase 4.3   \n",
       "  \n",
       "                                            Description More_Details  \\\n",
       "  88                                                                   \n",
       "  89  Explore the process of deploying machine learn...                \n",
       "  90                                                                   \n",
       "  \n",
       "                                              Objective           type Link  \\\n",
       "  88                                                     Usecase - Lab        \n",
       "  89  - Implement a FastAPI service to serve machine...   Main_session        \n",
       "  90                                                           Usecase        \n",
       "  \n",
       "     Phase                    Skill                                    DS_step  \n",
       "  88        Machine learning models  Step 5: Data Modeling, Step 6: Evaluation  \n",
       "  89           Software engineering                       Step 8: Deploy model  \n",
       "  90           Software engineering                       Step 8: Deploy model  ),\n",
       " ((5, 3, '5/15/2024'),\n",
       "      #Week  #Day       Date  seq                           Title  \\\n",
       "  91      5     3  5/15/2024    1        Usecase 7.2 - Lab review   \n",
       "  92      5     3  5/15/2024    2  Data Collecting - Web Scraping   \n",
       "  93      5     3  5/15/2024    3                Hands-on Session   \n",
       "  \n",
       "                                            Description More_Details  \\\n",
       "  91                                                                   \n",
       "  92  Learn the techniques of web scraping to progra...                \n",
       "  93  Students will apply the concepts and technique...                \n",
       "  \n",
       "                                              Objective              type Link  \\\n",
       "  91                                                        Usecase - Lab        \n",
       "  92  - Acquire the skills to use web scraping tools...      Main_session        \n",
       "  93                                                     Hands-on_Session        \n",
       "  \n",
       "     Phase                                    Skill                  DS_step  \n",
       "  91                           Software engineering     Step 8: Deploy model  \n",
       "  92        Programming, Data Storage and Retrieval  Step 2: Data Collection  \n",
       "  93        Programming, Data Storage and Retrieval  Step 2: Data Collection  ),\n",
       " ((5, 4, '5/16/2024'),\n",
       "      #Week  #Day       Date  seq                   Title  \\\n",
       "  94      5     4  5/16/2024    1   Data Collecting - SQL   \n",
       "  95      5     4  5/16/2024    2        Hands-on Session   \n",
       "  96      5     4  5/16/2024    3    Interactive activity   \n",
       "  \n",
       "                                            Description More_Details  \\\n",
       "  94  Understand the fundamentals of using Structure...                \n",
       "  95  Students will apply the concepts and technique...                \n",
       "  96                                                                   \n",
       "  \n",
       "                                              Objective              type Link  \\\n",
       "  94                                                         Main_session        \n",
       "  95  - Master basic to advanced SQL queries for dat...  Hands-on_Session        \n",
       "  96                                                                             \n",
       "  \n",
       "     Phase                                    Skill                  DS_step  \n",
       "  94        Programming, Data Storage and Retrieval  Step 2: Data Collection  \n",
       "  95        Programming, Data Storage and Retrieval  Step 2: Data Collection  \n",
       "  96        Programming, Data Storage and Retrieval  Step 2: Data Collection  ),\n",
       " ((5, 5, '5/17/2024'),\n",
       "      #Week  #Day       Date  seq                                Title  \\\n",
       "  97      5     5  5/17/2024    1                Intro to Time series    \n",
       "  98      5     5  5/17/2024    2                            Usecase 9   \n",
       "  99      5     5  5/17/2024    3  Usecase 8 - Project 5 introduction    \n",
       "  \n",
       "                                            Description More_Details  \\\n",
       "  97  Explore a statistical approach to analyze time...                \n",
       "  98                                                                   \n",
       "  99                                                                   \n",
       "  \n",
       "                                              Objective               type Link  \\\n",
       "  97  - Understand the unique characteristics of tim...       Main_session        \n",
       "  98                                                              Activity        \n",
       "  99                                                     Usecase - Project        \n",
       "  \n",
       "     Phase                                              Skill  \\\n",
       "  97                                  Machine learning models   \n",
       "  98                                  Machine learning models   \n",
       "  99        Software engineering\\nProgramming\\nData Storag...   \n",
       "  \n",
       "                                                DS_step  \n",
       "  97          Step 5: Data Modeling, Step 6: Evaluation  \n",
       "  98          Step 5: Data Modeling, Step 6: Evaluation  \n",
       "  99  Step 1: Define Problem Statement\\nStep 2: Data...  ),\n",
       " ((6, 1, '5/18/2024'),\n",
       "       #Week  #Day       Date  seq                         Title  \\\n",
       "  100      6     1  5/18/2024    1  Usecase 8 - Project 5 review   \n",
       "  101      6     1  5/18/2024    2       Usecase 10 - Lab review   \n",
       "  102      6     1  5/18/2024    3      Deep learning fandmental   \n",
       "  103      6     1  5/18/2024    4                   Usecase 4.4   \n",
       "  \n",
       "                                             Description More_Details  \\\n",
       "  100                                                                   \n",
       "  101                                                                   \n",
       "  102  Gain a solid foundation in deep learning, expl...                \n",
       "  103                                                                   \n",
       "  \n",
       "                                               Objective               type  \\\n",
       "  100                                                     Usecase - Project   \n",
       "  101                                                         Usecase - Lab   \n",
       "  102  - Comprehend the architecture and functioning ...       Main_session   \n",
       "  103                                                               Usecase   \n",
       "  \n",
       "      Link Phase                                              Skill  \\\n",
       "  100             Software engineering\\nProgramming\\nData Storag...   \n",
       "  101             Software engineering\\nProgramming\\nData Storag...   \n",
       "  102                                                 Deep learning   \n",
       "  103                                                 Deep learning   \n",
       "  \n",
       "                                                 DS_step  \n",
       "  100  Step 1: Define Problem Statement\\nStep 2: Data...  \n",
       "  101  Step 1: Define Problem Statement\\nStep 2: Data...  \n",
       "  102          Step 5: Data Modeling, Step 6: Evaluation  \n",
       "  103          Step 5: Data Modeling, Step 6: Evaluation  ),\n",
       " ((6, 2, '5/19/2024'),\n",
       "       #Week  #Day       Date  seq                              Title  \\\n",
       "  104      6     2  5/19/2024    1           Usecase 7.3 - Lab review   \n",
       "  105      6     2  5/19/2024    2  Natural Language Processing (NLP)   \n",
       "  106      6     2  5/19/2024    3                            Usecase   \n",
       "  \n",
       "                                             Description More_Details  \\\n",
       "  104                                                                   \n",
       "  105  Discover the field of NLP, which enables machi...                \n",
       "  106                                                                   \n",
       "  \n",
       "                                               Objective           type Link  \\\n",
       "  104                                                     Usecase - Lab        \n",
       "  105  - Understand the core concepts and challenges ...   Main_session        \n",
       "  106                                                           Usecase        \n",
       "  \n",
       "      Phase                        Skill  \\\n",
       "  104                      Deep learning   \n",
       "  105        Natural language processing   \n",
       "  106        Natural language processing   \n",
       "  \n",
       "                                         DS_step  \n",
       "  104  Step 5: Data Modeling, Step 6: Evaluation  \n",
       "  105  Step 5: Data Modeling, Step 6: Evaluation  \n",
       "  106  Step 5: Data Modeling, Step 6: Evaluation  ),\n",
       " ((6, 3, '5/20/2024'),\n",
       "       #Week  #Day       Date  seq            Title  \\\n",
       "  107      6     3  5/20/2024    1  Computer Vision   \n",
       "  108      6     3  5/20/2024    2          Usecase   \n",
       "  \n",
       "                                             Description More_Details  \\\n",
       "  107  Explore the realm of computer vision, where ma...                \n",
       "  108                                                                   \n",
       "  \n",
       "                                               Objective          type Link  \\\n",
       "  107  - Grasp the principles behind image processing...  Main_session        \n",
       "  108                                                          Usecase        \n",
       "  \n",
       "      Phase            Skill                                    DS_step  \n",
       "  107        Computer vision  Step 5: Data Modeling, Step 6: Evaluation  \n",
       "  108        Computer vision  Step 5: Data Modeling, Step 6: Evaluation  )]"
      ]
     },
     "execution_count": 28,
     "metadata": {},
     "output_type": "execute_result"
    }
   ],
   "source": [
    "list(df.groupby(['#Week', '#Day', 'Date']))"
   ]
  },
  {
   "cell_type": "code",
   "execution_count": 27,
   "id": "52279322-4b78-4331-ab00-e516eee8dd5a",
   "metadata": {},
   "outputs": [
    {
     "data": {
      "text/plain": [
       "datetime.datetime(2024, 3, 26, 0, 0)"
      ]
     },
     "execution_count": 27,
     "metadata": {},
     "output_type": "execute_result"
    }
   ],
   "source": [
    "from datetime import datetime\n",
    "import re\n",
    "datetime(2024, 3, 26)"
   ]
  }
 ],
 "metadata": {
  "kernelspec": {
   "display_name": "ds_env",
   "language": "python",
   "name": "ds_env"
  },
  "language_info": {
   "codemirror_mode": {
    "name": "ipython",
    "version": 3
   },
   "file_extension": ".py",
   "mimetype": "text/x-python",
   "name": "python",
   "nbconvert_exporter": "python",
   "pygments_lexer": "ipython3",
   "version": "3.11.7"
  }
 },
 "nbformat": 4,
 "nbformat_minor": 5
}
